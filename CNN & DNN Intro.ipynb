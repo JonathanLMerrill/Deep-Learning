{
 "cells": [
  {
   "cell_type": "markdown",
   "metadata": {
    "id": "cc0fy2eiYAOZ"
   },
   "source": [
    "<a href=\"https://colab.research.google.com/github/wingated/cs474_labs_f2019/blob/master/DL_Lab3.ipynb\" target=\"_parent\"><img src=\"https://colab.research.google.com/assets/colab-badge.svg\" alt=\"Open In Colab\"/></a>"
   ]
  },
  {
   "cell_type": "markdown",
   "metadata": {
    "id": "view-in-github"
   },
   "source": [
    "# Intro to CNNs and DNNs\n",
    "\n",
    "### Jonathan Merrill\n",
    "\n",
    "## Objectives\n",
    "\n",
    "* Build and train a deep conv net\n",
    "* Explore and implement various initialization techniques\n",
    "* Implement a parameterized module in Pytorch\n",
    "* Use a principled loss function\n",
    "\n",
    "\n",
    "## Grading Standards:\n",
    "* 20% Part 0: Successfully followed lab video and typed in code\n",
    "* 20% Part 1: Re-implement Conv2D and CrossEntropy loss function\n",
    "* 20% Part 2: Implement different initialization strategies\n",
    "* 10% Part 3: Print parameters, plot train/test accuracy\n",
    "* 10% Reach 85% validation accuracy from parts 1-3\n",
    "* 10% Part 4: Convolution parameters quiz\n",
    "* 10% Tidy and legible figures, including labeled axes where appropriate\n",
    "___\n"
   ]
  },
  {
   "cell_type": "code",
   "execution_count": 1,
   "metadata": {
    "colab": {
     "base_uri": "https://localhost:8080/"
    },
    "id": "PW1TZE9OYAOf",
    "outputId": "cecea6d8-5aaf-4ab9-b574-73091674ba02",
    "pycharm": {
     "name": "#%%\n"
    }
   },
   "outputs": [
    {
     "name": "stdout",
     "output_type": "stream",
     "text": [
      "Looking in indexes: https://pypi.org/simple, https://us-python.pkg.dev/colab-wheels/public/simple/\n",
      "Requirement already satisfied: torch in /usr/local/lib/python3.8/dist-packages (1.13.1+cu116)\n",
      "Requirement already satisfied: typing-extensions in /usr/local/lib/python3.8/dist-packages (from torch) (4.4.0)\n",
      "Looking in indexes: https://pypi.org/simple, https://us-python.pkg.dev/colab-wheels/public/simple/\n",
      "Requirement already satisfied: torchvision in /usr/local/lib/python3.8/dist-packages (0.14.1+cu116)\n",
      "Requirement already satisfied: requests in /usr/local/lib/python3.8/dist-packages (from torchvision) (2.25.1)\n",
      "Requirement already satisfied: numpy in /usr/local/lib/python3.8/dist-packages (from torchvision) (1.21.6)\n",
      "Requirement already satisfied: torch==1.13.1 in /usr/local/lib/python3.8/dist-packages (from torchvision) (1.13.1+cu116)\n",
      "Requirement already satisfied: typing-extensions in /usr/local/lib/python3.8/dist-packages (from torchvision) (4.4.0)\n",
      "Requirement already satisfied: pillow!=8.3.*,>=5.3.0 in /usr/local/lib/python3.8/dist-packages (from torchvision) (7.1.2)\n",
      "Requirement already satisfied: certifi>=2017.4.17 in /usr/local/lib/python3.8/dist-packages (from requests->torchvision) (2022.12.7)\n",
      "Requirement already satisfied: chardet<5,>=3.0.2 in /usr/local/lib/python3.8/dist-packages (from requests->torchvision) (4.0.0)\n",
      "Requirement already satisfied: idna<3,>=2.5 in /usr/local/lib/python3.8/dist-packages (from requests->torchvision) (2.10)\n",
      "Requirement already satisfied: urllib3<1.27,>=1.21.1 in /usr/local/lib/python3.8/dist-packages (from requests->torchvision) (1.24.3)\n",
      "Looking in indexes: https://pypi.org/simple, https://us-python.pkg.dev/colab-wheels/public/simple/\n",
      "Requirement already satisfied: tqdm in /usr/local/lib/python3.8/dist-packages (4.64.1)\n"
     ]
    }
   ],
   "source": [
    "!pip3 install torch\n",
    "!pip3 install torchvision\n",
    "!pip3 install tqdm"
   ]
  },
  {
   "cell_type": "markdown",
   "metadata": {
    "id": "yPa2lTNtYAOh"
   },
   "source": []
  },
  {
   "cell_type": "code",
   "execution_count": 2,
   "metadata": {
    "collapsed": true,
    "id": "wQOefmcZVgTl"
   },
   "outputs": [],
   "source": [
    "import torch\n",
    "import torch.nn as nn\n",
    "import torch.nn.functional as F\n",
    "import torch.optim as optim\n",
    "from torch.utils.data import Dataset, DataLoader\n",
    "import numpy as np\n",
    "import matplotlib.pyplot as plt\n",
    "from torchvision import transforms, utils, datasets\n",
    "from tqdm import tqdm\n",
    "from torch.nn.parameter import Parameter\n",
    "import pdb\n",
    "\n",
    "assert torch.cuda.is_available(), \"You need to request a GPU from Runtime > Change Runtime\""
   ]
  },
  {
   "cell_type": "markdown",
   "metadata": {
    "id": "QY4owfQwm-Ni"
   },
   "source": [
    "___\n",
    "\n",
    "### Part 1\n",
    "Re-implement a Conv2D module with parameters and a CrossEntropy loss function.\n",
    "\n",
    "___\n",
    "\n",
    "### Part 2\n",
    "Implement a few initialization strategies which can include Xe initialization\n",
    "(sometimes called Xavier), Orthogonal initialization, and uniform random.\n",
    "\n"
   ]
  },
  {
   "cell_type": "code",
   "execution_count": 66,
   "metadata": {
    "colab": {
     "base_uri": "https://localhost:8080/"
    },
    "id": "RkieTbwlYWPS",
    "outputId": "5a0794ed-ea5d-4890-e1a2-ef9929d1ff4b"
   },
   "outputs": [
    {
     "name": "stderr",
     "output_type": "stream",
     "text": [
      "epoch:0, loss:0.2771, accuracy:0.875: 100%|█████████▉| 937/938 [01:15<00:00, 18.82it/s]"
     ]
    }
   ],
   "source": [
    "#parts 1 and 2\n",
    "# class CrossEntropyLoss(nn.Module):\n",
    "#   pass\n",
    "#^ I added cross entropy loss into these classes below and didn't really see the need for a seperate crossentropy class\n",
    "\n",
    "class Conv2d(nn.Module):\n",
    "    def __init__(self, n_channels, out_channels, kernel_size, stride=1, padding=0, dilation=1, groups=1, bias=True, init_method='xe'):\n",
    "        self.__dict__.update(locals())\n",
    "        super(Conv2d, self).__init__()\n",
    "        \n",
    "        # Initialize weight and bias as parameters\n",
    "        self.weight = Parameter(torch.Tensor(out_channels,n_channels, *kernel_size))\n",
    "        self.bias = Parameter(torch.Tensor(out_channels))\n",
    "        \n",
    "        # Initialize weights and biases based on the given method\n",
    "        if init_method == 'uniform':\n",
    "            self.weight.data.uniform_(-1,1) # uniform initialization between -1 and 1\n",
    "            self.bias.data.uniform_(0,0) # uniform initialization between 0 and 0\n",
    "        elif init_method == 'xe':\n",
    "            torch.nn.init.xavier_normal_(self.weight) # xavier normal initialization\n",
    "            torch.nn.init.zeros_(self.bias) # zero initialization\n",
    "        elif init_method == 'orthogonal':\n",
    "            torch.nn.init.orthogonal_(self.weight) # orthogonal initialization\n",
    "            torch.nn.init.zeros_(self.bias) # zero initialization\n",
    "        \n",
    "    def forward(self, x):\n",
    "        # Perform convolution operation using the defined weight and bias, along with the given stride, padding, dilation and group values\n",
    "        return F.conv2d(x,self.weight, self.bias, self.stride, self.padding, self.dilation, self.groups)\n",
    "\n",
    "     \n",
    "class ConvNetwork(nn.Module):\n",
    "    def __init__(self, dataset):\n",
    "        super(ConvNetwork, self).__init__()\n",
    "        x, y = dataset[0]\n",
    "        c, h, w = x.size()\n",
    "        output = 10\n",
    "\n",
    "        #create an inordinate amount of deep layers\n",
    "        self.net = nn.Sequential(\n",
    "        Conv2d(c, 10, (3,3), padding=(1,1)),\n",
    "        nn.ReLU(),\n",
    "        Conv2d(10, 20, (3,3), padding=(1,1)),\n",
    "        nn.ReLU(),\n",
    "        Conv2d(20, 30, (3,3), padding=(1,1)),\n",
    "        nn.ReLU(),\n",
    "        Conv2d(30, 40, (3,3), padding=(1,1)),\n",
    "        nn.ReLU(),\n",
    "        Conv2d(40, 50, (3,3), padding=(1,1)),\n",
    "        nn.ReLU(),\n",
    "        Conv2d(50, 60, (3,3), padding=(1,1)),\n",
    "        nn.ReLU(),\n",
    "        Conv2d(60, 70, (3,3), padding=(1,1)),\n",
    "        nn.ReLU(),\n",
    "        Conv2d(70, 80, (3,3), padding=(1,1)),\n",
    "        nn.ReLU(),\n",
    "        Conv2d(80, 90, (3,3), padding=(1,1)),\n",
    "        nn.ReLU(),\n",
    "        Conv2d(90, 100, (3,3), padding=(1,1)),\n",
    "        nn.ReLU(),\n",
    "        Conv2d(100, 110, (3,3), padding=(1,1)),\n",
    "        nn.ReLU(),\n",
    "        Conv2d(110, output, (28,28), padding=(0,0)),\n",
    "        )\n",
    "\n",
    "        \n",
    "    def forward(self, x):\n",
    "        return self.net(x).squeeze(2).squeeze(2)\n",
    "    \n",
    "class FashionMNISTProcessedDataset(Dataset):\n",
    "    def __init__(self, root, train=True):\n",
    "        self.data = datasets.FashionMNIST(root, train=train, transform=transforms.ToTensor(), download=True)\n",
    "        \n",
    "    def __getitem__(self,i):\n",
    "        x, y = self.data[i]\n",
    "        return x,y\n",
    "        \n",
    "    def __len__(self):\n",
    "        return len(self.data)\n",
    "    \n",
    "    \n",
    "# load the train and validation datasets\n",
    "train_dataset = FashionMNISTProcessedDataset('/tmp/fashionmnist')\n",
    "val_dataset = FashionMNISTProcessedDataset('/tmp/fashionmnist', train=False)\n",
    "\n",
    "# initialize the model, objective function, and optimizer\n",
    "model = ConvNetwork(train_dataset)\n",
    "model = model.cuda()\n",
    "objective = nn.CrossEntropyLoss()\n",
    "optimizer = optim.Adam(model.parameters(), lr = 1e-4)\n",
    "\n",
    "# create data loaders for the train and validation sets\n",
    "train_loader = DataLoader(train_dataset, batch_size = 64, pin_memory = True)\n",
    "val_loader = DataLoader(val_dataset, batch_size = 64, pin_memory = True)\n",
    "\n",
    "# initialize lists to store training information\n",
    "losses = []\n",
    "validations = []\n",
    "accuracies = []\n",
    "\n",
    "# loop through the training epochs\n",
    "for epoch in range(1):\n",
    "    # create a progress bar for the current epoch\n",
    "    loop = tqdm(total = len(train_loader), position=0, leave=False)\n",
    "    \n",
    "    # loop through the batches in the train_loader\n",
    "    for batch, (x,y_truth) in enumerate(train_loader):\n",
    "        # move the data to the GPU\n",
    "        x, y_truth = x.cuda(), y_truth.cuda()\n",
    "        \n",
    "        # zero the gradients\n",
    "        optimizer.zero_grad()\n",
    "        \n",
    "        # forward pass\n",
    "        y_hat = model(x)\n",
    "        \n",
    "        # calculate the loss\n",
    "        loss = objective(y_hat, y_truth)\n",
    "        \n",
    "        # backward pass\n",
    "        loss.backward()\n",
    "        \n",
    "        # update the losses, accuracies lists\n",
    "        losses.append(loss.item())\n",
    "        with torch.no_grad():\n",
    "            _, preds = torch.max(y_hat, 1)\n",
    "            accuracy = torch.mean(torch.eq(preds, y_truth).float()).item()\n",
    "            accuracies.append(accuracy)\n",
    "\n",
    "        # update the progress bar with the current loss and accuracy\n",
    "        loop.set_description('epoch:{}, loss:{:.4f}, accuracy:{:.3f}'.format(epoch, loss, accuracy))\n",
    "        loop.update(1)\n",
    "        \n",
    "        # update the model's parameters\n",
    "        optimizer.step()\n",
    "        \n",
    "        # validate the model every 100 batches\n",
    "        if batch % 100 == 0:\n",
    "            val_losses = []\n",
    "            for x,y in val_loader:\n",
    "                x, y = x.cuda(), y.cuda()\n",
    "                y_hat = model(x)\n",
    "                val_loss = objective(y_hat, y)\n",
    "                val_losses.append(val_loss.item())\n",
    "                val = np.mean(val_losses)\n",
    "            validations.append((len(losses), val))\n"
   ]
  },
  {
   "cell_type": "markdown",
   "metadata": {
    "id": "ronkEckHiDaU"
   },
   "source": [
    "\n",
    "___\n",
    "\n",
    "### Part 3\n",
    "Print the number of parameters in your network and plot accuracy of your training and validation \n",
    "set over time. You should experiment with some deep networks and see if you can get a network \n",
    "with close to 1,000,000 parameters.\n",
    "\n",
    "Once you've experimented with multiple network setups and the different initialization strategies, plot the best-performing experiment here. You should be able to exceed 85% accuracy on the validation set.\n"
   ]
  },
  {
   "cell_type": "code",
   "execution_count": 72,
   "metadata": {
    "colab": {
     "base_uri": "https://localhost:8080/",
     "height": 545
    },
    "id": "PaWCKjxvyRSf",
    "outputId": "8f73afc7-ceb2-4ee1-bff3-9fed13e54327",
    "pycharm": {
     "is_executing": false
    }
   },
   "outputs": [
    {
     "data": {
      "image/png": "[encoded data removed]",
      "text/plain": [
       "<Figure size 432x288 with 1 Axes>"
      ]
     },
     "metadata": {
      "needs_background": "light"
     },
     "output_type": "display_data"
    },
    {
     "data": {
      "image/png": "[encoded data removed]",
      "text/plain": [
       "<Figure size 432x288 with 1 Axes>"
      ]
     },
     "metadata": {
      "needs_background": "light"
     },
     "output_type": "display_data"
    }
   ],
   "source": [
    "#plot validation and loss\n",
    "a,b = zip(*validations)\n",
    "plt.plot(losses, label = 'train')\n",
    "plt.plot(a,b,label = 'val')\n",
    "plt.legend()\n",
    "plt.title(\"Validation and Training loss\")\n",
    "plt.show()\n",
    "\n",
    "#plot accuracy\n",
    "A = accuracies[0::15]\n",
    "n = np.linspace(1,len(A), len(A))\n",
    "plt.plot(n, A)  \n",
    "plt.title(\"Accuracy over time\")\n",
    "plt.show()"
   ]
  },
  {
   "cell_type": "code",
   "execution_count": 76,
   "metadata": {
    "colab": {
     "base_uri": "https://localhost:8080/"
    },
    "id": "oijCR-JnyS6V",
    "outputId": "fc582f9a-2303-4d08-f34b-732126266481",
    "pycharm": {
     "is_executing": false
    }
   },
   "outputs": [
    {
     "name": "stdout",
     "output_type": "stream",
     "text": [
      "Final Accuracy:  87.5 %\n",
      "Number of Parameters:  1259160\n",
      "I should also add that I used the xe initialization\n"
     ]
    }
   ],
   "source": [
    "# Compute and print the number of parameters in the model\n",
    "print(\"Final Accuracy: \", accuracies[-1]*100, \"%\")\n",
    "num_params = sum(p.numel() for p in model.parameters())\n",
    "print(\"Number of Parameters: \", num_params)\n",
    "print(\"I should also add that I used the xe initialization\")"
   ]
  },
  {
   "cell_type": "markdown",
   "metadata": {
    "id": "7hXGRxUQh9gX"
   },
   "source": [
    "___\n",
    "\n",
    "### Part 4\n",
    "Learn about how convolution layers affect the shape of outputs, and answer the following quiz questions. Include these in a new markdown cell in your jupyter notebook.\n",
    "\n",
    "\n",
    "*Using a Kernel size of 3×3 what should the settings of your 2d convolution be that results in the following mappings (first answer given to you)*\n",
    "\n",
    "* (c=3, h=10, w=10) ⇒ (c=10, h=8, w=8) : (out_channels=10, kernel_size=(3, 3), padding=(0, 0))\n",
    "* (c=3, h=10, w=10) ⇒ (c=22, h=10, w=10) : (out_channels=22, kernel_size=(3, 3), padding=(0, 0))\n",
    "* (c=3, h=10, w=10) ⇒ (c=65, h=12, w=12) : (out_channels=65, kernel_size=(3, 3), padding=(1, 1))\n",
    "* (c=3, h=10, w=10) ⇒ (c=7, h=20, w=20) : (out_channels=7, kernel_size=(3, 3), padding=(0, 0), stride = (2,2))\n",
    "\n",
    "*Using a Kernel size of 5×5:*)\n",
    "\n",
    "* (c=3, h=10, w=10) ⇒ (c=10, h=8, w=8) : (out_channels=10, kernel_size=(5, 5), padding=(1, 1))\n",
    "* (c=3, h=10, w=10) ⇒ (c=100, h=10, w=10) : (out_channels=100, kernel_size=(5, 5), padding=(0, 0))\n",
    "* (c=3, h=10, w=10) ⇒ (c=23, h=12, w=12) : (out_channels=23, kernel_size=(5, 5), padding=(1, 1))\n",
    "* (c=3, h=10, w=10) ⇒ (c=5, h=24, w=24) : (out_channels=5, kernel_size=(5, 5), padding=(4, 4), stride=(2, 2))\n",
    "\n",
    "*Using Kernel size of 5×3:*\n",
    "\n",
    "* (c=3, h=10, w=10) ⇒ (c=10, h=8, w=8) : (out_channels=10, kernel_size=(5, 3), padding=(1, 0))\n",
    "* (c=3, h=10, w=10) ⇒ (c=100, h=10, w=10) :(out_channels=100, kernel_size=(5, 3), padding=(0, 1))\n",
    "* (c=3, h=10, w=10) ⇒ (c=23, h=12, w=12) : (out_channels=23, kernel_size=(5, 3), padding=(1, 1))\n",
    "* (c=3, h=10, w=10) ⇒ (c=5, h=24, w=24) : (out_channels=5, kernel_size=(5, 3), padding=(4, 2), stride=(2, 2))\n",
    "\n",
    "*Determine the kernel that requires the smallest padding size to make the following mappings possible:*\n",
    "\n",
    "* (c=3, h=10, w=10) ⇒ (c=10, h=9, w=7) : (out_channels = 10, kernel_size=(3, 2), padding=(0, 0))\n",
    "* (c=3, h=10, w=10) ⇒ (c=22, h=10, w=10) : (out_channels = 22, kernel_size=(1, 1), padding=(0, 0))\n"
   ]
  }
 ],
 "metadata": {
  "accelerator": "GPU",
  "colab": {
   "provenance": []
  },
  "kernelspec": {
   "display_name": "Python 3 (ipykernel)",
   "language": "python",
   "name": "python3"
  },
  "language_info": {
   "codemirror_mode": {
    "name": "ipython",
    "version": 3
   },
   "file_extension": ".py",
   "mimetype": "text/x-python",
   "name": "python",
   "nbconvert_exporter": "python",
   "pygments_lexer": "ipython3",
   "version": "3.9.13"
  },
  "pycharm": {
   "stem_cell": {
    "cell_type": "raw",
    "metadata": {
     "collapsed": false
    },
    "source": []
   }
  }
 },
 "nbformat": 4,
 "nbformat_minor": 1
}
