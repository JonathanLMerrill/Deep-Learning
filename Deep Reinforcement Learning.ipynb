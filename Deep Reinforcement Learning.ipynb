{
 "cells": [
  {
   "cell_type": "markdown",
   "metadata": {
    "id": "w-jFCArcTC-B"
   },
   "source": [
    "<a \n",
    "href=\"https://colab.research.google.com/github/wingated/cs474_labs_f2019/blob/master/DL_Lab9.ipynb\"\n",
    "  target=\"_parent\">\n",
    "  <img\n",
    "    src=\"https://colab.research.google.com/assets/colab-badge.svg\"\n",
    "    alt=\"Open In Colab\"/>\n",
    "</a>"
   ]
  },
  {
   "cell_type": "markdown",
   "metadata": {
    "id": "sl7hEuB3J4k3"
   },
   "source": [
    "# Deep Reinforcement Learning\n",
    "\n",
    "## Objective\n",
    "\n",
    "- Build DQN and PPO Deep RL algorithms\n",
    "\n",
    "\n",
    "### Cartpole\n",
    "\n",
    "Cartpole is a simple environment to get your agent up and running. It has a continuous state space of 4 dimensions and a discrete action space of 2. The agent is given a reward of 1 for each timestep it remains standing. Your agent should be able to reach close to 200 cumulative reward for an episode after a minute or two of training. The below graphs show example results for dqn (left) and ppo (right)."
   ]
  },
  {
   "cell_type": "markdown",
   "metadata": {
    "id": "WhaPOG6xt0yn"
   },
   "source": [
    "## Init"
   ]
  },
  {
   "cell_type": "code",
   "execution_count": 1,
   "metadata": {
    "colab": {
     "base_uri": "https://localhost:8080/"
    },
    "id": "EyykNyRM1Tf3",
    "outputId": "07573a6b-74b1-496c-cae4-24f5ebb7b457"
   },
   "outputs": [
    {
     "name": "stdout",
     "output_type": "stream",
     "text": [
      "Looking in indexes: https://pypi.org/simple, https://us-python.pkg.dev/colab-wheels/public/simple/\n",
      "Collecting gymnasium\n",
      "  Downloading gymnasium-0.28.1-py3-none-any.whl (925 kB)\n",
      "\u001b[2K     \u001b[90m━━━━━━━━━━━━━━━━━━━━━━━━━━━━━━━━━━━━━━\u001b[0m \u001b[32m925.5/925.5 KB\u001b[0m \u001b[31m10.8 MB/s\u001b[0m eta \u001b[36m0:00:00\u001b[0m\n",
      "\u001b[?25hRequirement already satisfied: numpy>=1.21.0 in /usr/local/lib/python3.9/dist-packages (from gymnasium) (1.22.4)\n",
      "Requirement already satisfied: typing-extensions>=4.3.0 in /usr/local/lib/python3.9/dist-packages (from gymnasium) (4.5.0)\n",
      "Collecting farama-notifications>=0.0.1\n",
      "  Downloading Farama_Notifications-0.0.4-py3-none-any.whl (2.5 kB)\n",
      "Collecting jax-jumpy>=1.0.0\n",
      "  Downloading jax_jumpy-1.0.0-py3-none-any.whl (20 kB)\n",
      "Requirement already satisfied: importlib-metadata>=4.8.0 in /usr/local/lib/python3.9/dist-packages (from gymnasium) (6.1.0)\n",
      "Requirement already satisfied: cloudpickle>=1.2.0 in /usr/local/lib/python3.9/dist-packages (from gymnasium) (2.2.1)\n",
      "Requirement already satisfied: zipp>=0.5 in /usr/local/lib/python3.9/dist-packages (from importlib-metadata>=4.8.0->gymnasium) (3.15.0)\n",
      "Installing collected packages: farama-notifications, jax-jumpy, gymnasium\n",
      "Successfully installed farama-notifications-0.0.4 gymnasium-0.28.1 jax-jumpy-1.0.0\n",
      "Looking in indexes: https://pypi.org/simple, https://us-python.pkg.dev/colab-wheels/public/simple/\n",
      "Requirement already satisfied: torch in /usr/local/lib/python3.9/dist-packages (1.13.1+cu116)\n",
      "Requirement already satisfied: typing-extensions in /usr/local/lib/python3.9/dist-packages (from torch) (4.5.0)\n",
      "Looking in indexes: https://pypi.org/simple, https://us-python.pkg.dev/colab-wheels/public/simple/\n",
      "Requirement already satisfied: pygame in /usr/local/lib/python3.9/dist-packages (2.3.0)\n",
      "Looking in indexes: https://pypi.org/simple, https://us-python.pkg.dev/colab-wheels/public/simple/\n",
      "Requirement already satisfied: moviepy==1.0.3 in /usr/local/lib/python3.9/dist-packages (1.0.3)\n",
      "Requirement already satisfied: imageio<3.0,>=2.5 in /usr/local/lib/python3.9/dist-packages (from moviepy==1.0.3) (2.25.1)\n",
      "Requirement already satisfied: decorator<5.0,>=4.0.2 in /usr/local/lib/python3.9/dist-packages (from moviepy==1.0.3) (4.4.2)\n",
      "Requirement already satisfied: requests<3.0,>=2.8.1 in /usr/local/lib/python3.9/dist-packages (from moviepy==1.0.3) (2.27.1)\n",
      "Requirement already satisfied: numpy>=1.17.3 in /usr/local/lib/python3.9/dist-packages (from moviepy==1.0.3) (1.22.4)\n",
      "Requirement already satisfied: tqdm<5.0,>=4.11.2 in /usr/local/lib/python3.9/dist-packages (from moviepy==1.0.3) (4.65.0)\n",
      "Requirement already satisfied: imageio-ffmpeg>=0.2.0 in /usr/local/lib/python3.9/dist-packages (from moviepy==1.0.3) (0.4.8)\n",
      "Requirement already satisfied: proglog<=1.0.0 in /usr/local/lib/python3.9/dist-packages (from moviepy==1.0.3) (0.1.10)\n",
      "Requirement already satisfied: pillow>=8.3.2 in /usr/local/lib/python3.9/dist-packages (from imageio<3.0,>=2.5->moviepy==1.0.3) (8.4.0)\n",
      "Requirement already satisfied: certifi>=2017.4.17 in /usr/local/lib/python3.9/dist-packages (from requests<3.0,>=2.8.1->moviepy==1.0.3) (2022.12.7)\n",
      "Requirement already satisfied: charset-normalizer~=2.0.0 in /usr/local/lib/python3.9/dist-packages (from requests<3.0,>=2.8.1->moviepy==1.0.3) (2.0.12)\n",
      "Requirement already satisfied: urllib3<1.27,>=1.21.1 in /usr/local/lib/python3.9/dist-packages (from requests<3.0,>=2.8.1->moviepy==1.0.3) (1.26.15)\n",
      "Requirement already satisfied: idna<4,>=2.5 in /usr/local/lib/python3.9/dist-packages (from requests<3.0,>=2.8.1->moviepy==1.0.3) (3.4)\n",
      "Looking in indexes: https://pypi.org/simple, https://us-python.pkg.dev/colab-wheels/public/simple/\n",
      "Requirement already satisfied: imageio_ffmpeg in /usr/local/lib/python3.9/dist-packages (0.4.8)\n",
      "Looking in indexes: https://pypi.org/simple, https://us-python.pkg.dev/colab-wheels/public/simple/\n",
      "Collecting pyvirtualdisplay\n",
      "  Downloading PyVirtualDisplay-3.0-py3-none-any.whl (15 kB)\n",
      "Installing collected packages: pyvirtualdisplay\n",
      "Successfully installed pyvirtualdisplay-3.0\n",
      "Reading package lists... Done\n",
      "Building dependency tree       \n",
      "Reading state information... Done\n",
      "ffmpeg is already the newest version (7:4.2.7-0ubuntu0.1).\n",
      "The following additional packages will be installed:\n",
      "  freeglut3 libpython2-stdlib python2 python2-minimal\n",
      "Suggested packages:\n",
      "  python-tk python-numpy libgle3 python2-doc\n",
      "The following NEW packages will be installed:\n",
      "  freeglut3 libpython2-stdlib python-opengl python2 python2-minimal xvfb\n",
      "0 upgraded, 6 newly installed, 0 to remove and 23 not upgraded.\n",
      "Need to get 1,401 kB of archives.\n",
      "After this operation, 8,330 kB of additional disk space will be used.\n",
      "Get:1 http://archive.ubuntu.com/ubuntu focal/universe amd64 python2-minimal amd64 2.7.17-2ubuntu4 [27.5 kB]\n",
      "Get:2 http://archive.ubuntu.com/ubuntu focal/universe amd64 libpython2-stdlib amd64 2.7.17-2ubuntu4 [7,072 B]\n",
      "Get:3 http://archive.ubuntu.com/ubuntu focal/universe amd64 python2 amd64 2.7.17-2ubuntu4 [26.5 kB]\n",
      "Get:4 http://archive.ubuntu.com/ubuntu focal/universe amd64 freeglut3 amd64 2.8.1-3 [73.6 kB]\n",
      "Get:5 http://archive.ubuntu.com/ubuntu focal/universe amd64 python-opengl all 3.1.0+dfsg-2build1 [486 kB]\n",
      "Get:6 http://archive.ubuntu.com/ubuntu focal-updates/universe amd64 xvfb amd64 2:1.20.13-1ubuntu1~20.04.8 [780 kB]\n",
      "Fetched 1,401 kB in 1s (2,759 kB/s)\n",
      "Selecting previously unselected package python2-minimal.\n",
      "(Reading database ... 128288 files and directories currently installed.)\n",
      "Preparing to unpack .../python2-minimal_2.7.17-2ubuntu4_amd64.deb ...\n",
      "Unpacking python2-minimal (2.7.17-2ubuntu4) ...\n",
      "Selecting previously unselected package libpython2-stdlib:amd64.\n",
      "Preparing to unpack .../libpython2-stdlib_2.7.17-2ubuntu4_amd64.deb ...\n",
      "Unpacking libpython2-stdlib:amd64 (2.7.17-2ubuntu4) ...\n",
      "Setting up python2-minimal (2.7.17-2ubuntu4) ...\n",
      "Selecting previously unselected package python2.\n",
      "(Reading database ... 128317 files and directories currently installed.)\n",
      "Preparing to unpack .../python2_2.7.17-2ubuntu4_amd64.deb ...\n",
      "Unpacking python2 (2.7.17-2ubuntu4) ...\n",
      "Selecting previously unselected package freeglut3:amd64.\n",
      "Preparing to unpack .../freeglut3_2.8.1-3_amd64.deb ...\n",
      "Unpacking freeglut3:amd64 (2.8.1-3) ...\n",
      "Selecting previously unselected package python-opengl.\n",
      "Preparing to unpack .../python-opengl_3.1.0+dfsg-2build1_all.deb ...\n",
      "Unpacking python-opengl (3.1.0+dfsg-2build1) ...\n",
      "Selecting previously unselected package xvfb.\n",
      "Preparing to unpack .../xvfb_2%3a1.20.13-1ubuntu1~20.04.8_amd64.deb ...\n",
      "Unpacking xvfb (2:1.20.13-1ubuntu1~20.04.8) ...\n",
      "Setting up freeglut3:amd64 (2.8.1-3) ...\n",
      "Setting up libpython2-stdlib:amd64 (2.7.17-2ubuntu4) ...\n",
      "Setting up xvfb (2:1.20.13-1ubuntu1~20.04.8) ...\n",
      "Setting up python2 (2.7.17-2ubuntu4) ...\n",
      "Setting up python-opengl (3.1.0+dfsg-2build1) ...\n",
      "Processing triggers for man-db (2.9.1-1) ...\n",
      "Processing triggers for libc-bin (2.31-0ubuntu9.9) ...\n"
     ]
    }
   ],
   "source": [
    "! pip3 install gymnasium\n",
    "! pip3 install torch\n",
    "! pip install pygame\n",
    "! pip install moviepy==1.0.3\n",
    "! pip install imageio_ffmpeg\n",
    "####################\n",
    "! pip install pyvirtualdisplay\n",
    "! apt-get install -y xvfb python-opengl ffmpeg\n",
    "####################"
   ]
  },
  {
   "cell_type": "code",
   "execution_count": 2,
   "metadata": {
    "id": "Rim8iocC1Vva"
   },
   "outputs": [],
   "source": [
    "import gymnasium as gym\n",
    "import torch\n",
    "import torch.nn as nn\n",
    "import torch.nn.functional as F\n",
    "from itertools import chain\n",
    "import matplotlib.pyplot as plt\n",
    "from tqdm import tqdm\n",
    "import random\n",
    "from torch.utils.data import Dataset, DataLoader\n",
    "import numpy as np\n",
    "\n",
    "####################\n",
    "from gymnasium import logger as gymlogger\n",
    "from gymnasium.wrappers import RecordVideo\n",
    "gymlogger.set_level(40) #error only\n",
    "\n",
    "import glob\n",
    "import io\n",
    "import base64\n",
    "from IPython.display import HTML\n",
    "from IPython import display as ipythondisplay\n",
    "####################"
   ]
  },
  {
   "cell_type": "code",
   "execution_count": 3,
   "metadata": {
    "colab": {
     "base_uri": "https://localhost:8080/"
    },
    "id": "l1f8lZp19Lwj",
    "outputId": "bcd5cffc-3b61-4ab6-8a2f-3a46d58071e1"
   },
   "outputs": [
    {
     "data": {
      "text/plain": [
       "<pyvirtualdisplay.display.Display at 0x7f1158204ca0>"
      ]
     },
     "execution_count": 3,
     "metadata": {},
     "output_type": "execute_result"
    }
   ],
   "source": [
    "######################\n",
    "from pyvirtualdisplay import Display\n",
    "display = Display(visible=0, size=(1400,900))\n",
    "display.start()\n",
    "######################"
   ]
  },
  {
   "cell_type": "code",
   "execution_count": 4,
   "metadata": {
    "id": "_TI_5c0l9Ojv"
   },
   "outputs": [],
   "source": [
    "######################\n",
    "def show_video():\n",
    "  mp4list = glob.glob('video/*.mp4')\n",
    "  if len(mp4list) > 0:\n",
    "    mp4 = mp4list[0]\n",
    "    video = io.open(mp4, 'r+b').read()\n",
    "    encoded = base64.b64encode(video)\n",
    "    ipythondisplay.display(HTML(data='''<video alt=\"test\" autoplay \n",
    "                loop controls style=\"height: 400px;\">\n",
    "                <source src=\"data:video/mp4;base64,{0}\" type=\"video/mp4\" />\n",
    "             </video>'''.format(encoded.decode('ascii'))))\n",
    "  else: \n",
    "    print(\"Could not find video\")\n",
    "\n",
    "def wrap_env(env):\n",
    "  env = RecordVideo(env, './video')\n",
    "  return env\n",
    "######################"
   ]
  },
  {
   "cell_type": "markdown",
   "metadata": {
    "id": "mV282uYJ2aSw"
   },
   "source": [
    "## DQN"
   ]
  },
  {
   "cell_type": "markdown",
   "metadata": {
    "id": "Qi_aDdTg2btp"
   },
   "source": [
    "## Part 1\n",
    "\n",
    "\n",
    "Deep Q-Network (https://www.cs.toronto.edu/~vmnih/docs/dqn.pdf) is a Q-learning algorithm that learns values for state-action pairs.\n",
    "\n",
    "Actions are sampled according to an $\\epsilon-greedy$ policy to help with exploration of the state space. Every time an action is sampled, the agent chooses a random action with $\\epsilon$ probability. Otherwise, the agent selects the action with the highest Q-value for a state. $\\epsilon$ decays over time according to $\\epsilon \\gets \\epsilon * epsilon\\_decay$.\n",
    "\n",
    "Tuples of state, action, reward, next_state, and terminal $(s,a,r,s',d)$ are collected during training. Every $learn\\_frequency$ steps $sample\\_size$ tuples are sampled and made into 5 tensors tensors of states, actions, rewarads, next_states, and terminals.\n",
    "\n",
    "The loss for a batch of size N is given below.\n",
    "\n",
    "$Loss=\\frac{1}{N}\\sum \\bigg(Q(s,a) - (r + \\gamma \\underset{a'\\sim A}{max} \\hat{Q}(s',a')(1-d))\\bigg)^2 $\n",
    "\n",
    "Loss is calculated and used to update the Q-Network. The target network $\\hat{Q}$ begins as a copy of the Q network but is not updated by the optimizer. Every $target\\_update$ steps, the target network is updated with the parameters of the Q-Network. This process is a type of bootstrapping."
   ]
  },
  {
   "cell_type": "markdown",
   "metadata": {},
   "source": [
    "## I get bored out of my mind doing these projects so to keep myself entertained I make crazy varaible names. I still understand what's going on. Sorry if it confuses you. I can change it if you want. "
   ]
  },
  {
   "cell_type": "code",
   "execution_count": 7,
   "metadata": {
    "id": "_mBUvXkT2dHy"
   },
   "outputs": [],
   "source": [
    "def get_action_dqn(network, state, epsilon, epsilon_decay):\n",
    "    \"\"\"\n",
    "    Select an action according to an e-greedy policy and decay epsilon.\n",
    "\n",
    "    Args:\n",
    "        network (QNetwork): the Q-network used to select actions\n",
    "        state (np-array): the current state\n",
    "        epsilon (float): the probability of choosing a random action\n",
    "        epsilon_decay (float): the decay factor for epsilon\n",
    "\n",
    "    Returns:\n",
    "        action (int): the action chosen by the agent\n",
    "        epsilon (float): the decayed epsilon value\n",
    "    \"\"\"\n",
    "\n",
    "    #decay the epsilon value\n",
    "    decay = epsilon * epsilon_decay\n",
    "\n",
    "    #if a random number is less than epsilon, choose a random action\n",
    "    if np.random.rand() < epsilon:\n",
    "        return np.random.randint(2), decay\n",
    "\n",
    "    #otherwise, use the Q-network to select the best action\n",
    "    #we are assuming that the Q-network is already on the GPU\n",
    "    action = network(torch.tensor(state, dtype=torch.float).cuda())\n",
    "    best_action = torch.argmax(action).item()\n",
    "\n",
    "    return best_action, decay\n",
    "\n",
    "\n",
    "\n",
    "def prepare_batch(memory, batch_size):\n",
    "  \"\"\"Randomly sample batch from memory\n",
    "     Prepare cuda tensors\n",
    "\n",
    "    Args:\n",
    "        memory (list): state, action, next_state, reward, done tuples\n",
    "        batch_size (int): amount of memory to sample into a batch\n",
    "\n",
    "    Returns:\n",
    "        state (tensor): float cuda tensor of size (batch_size x state_size)\n",
    "        action (tensor): long tensor of size (batch_size)\n",
    "        next_state (tensor): float cuda tensor of size (batch_size x state_size)\n",
    "        reward (tensor): float cuda tensor of size (batch_size)\n",
    "        done (tensor): float cuda tensor of size (batch_size)\n",
    "  \"\"\"\n",
    "  #initialize empty lists \n",
    "  state = []\n",
    "  action = []\n",
    "  next_state = []\n",
    "  reward = []\n",
    "  done = []\n",
    "\n",
    "  #randomly sample batch_size number of state, action, next_state, reward and done tuples from memory\n",
    "  for s, a, n, r, d in random.sample(memory, batch_size):\n",
    "      state.append(s)\n",
    "      action.append(a)\n",
    "      next_state.append(n)\n",
    "      reward.append(r)\n",
    "      done.append(d)\n",
    "\n",
    "  #convert the lists to torch tensors and move them to GPU memory\n",
    "  state = torch.tensor(state).cuda()\n",
    "  action = torch.tensor(action).cuda()\n",
    "  next_state = torch.tensor(next_state).cuda()\n",
    "  reward = torch.tensor(reward).cuda()\n",
    "  done = torch.tensor(done).cuda()\n",
    "\n",
    "  #return the batch of tensors\n",
    "  return state, action, next_state, reward, done\n",
    "\n",
    "\n",
    "\n",
    "  \n",
    "def learn_dqn(batch, optim, q_network, target_network, gamma, global_step, target_update):\n",
    "  \"\"\"Update Q-Network according to DQN Loss function\n",
    "     Update Target Network every target_update global steps\n",
    "\n",
    "    Args:\n",
    "        batch (tuple): tuple of state, action, next_state, reward, and done tensors\n",
    "        optim (Adam): Q-Network optimizer\n",
    "        q_network (QNetwork): Q-Network\n",
    "        target_network (QNetwork): Target Q-Network\n",
    "        gamma (float): discount factor\n",
    "        global_step (int): total steps taken in environment\n",
    "        target_update (int): frequency of target network update\n",
    "  \"\"\"\n",
    "\n",
    "  #zero the gradients\n",
    "  optim.zero_grad()\n",
    "\n",
    "  state, action, next_state, reward, done = batch\n",
    "  temp = q_network(state.float())\n",
    "\n",
    "  #select the Q-value corresponding to the chosen action for each sample in the batch\n",
    "  learn_1 = torch.gather(temp, 1, action.view(-1,1)).squeeze()\n",
    "  #compute the target Q-values for each sample in the batch using the Target Q-Network and the Bellman equation\n",
    "  learn_2 = reward + gamma * torch.max(target_network(next_state.float()).cuda(), dim=1).values * (1 - done.int())\n",
    "\n",
    "  #compute the cumulative loss for the batch as the mean squared error between the predicted Q-values and the target Q-values\n",
    "  cum_loss = torch.sum(((learn_1 - (learn_2))**2))\n",
    "  cum_loss.backward()\n",
    "\n",
    "  #update the Q-Network parameters\n",
    "  optim.step()\n",
    "\n",
    "  #update the Target Q-Network with the parameters of the Q-Network \n",
    "  if global_step % target_update == 0:\n",
    "      target_network.load_state_dict(q_network.state_dict())\n"
   ]
  },
  {
   "cell_type": "markdown",
   "metadata": {
    "id": "vGQgiY0WvImB"
   },
   "source": [
    "### Modules"
   ]
  },
  {
   "cell_type": "code",
   "execution_count": 8,
   "metadata": {
    "id": "1vMhl-oevIBo"
   },
   "outputs": [],
   "source": [
    "# Q-Value Network\n",
    "class QNetwork(nn.Module):\n",
    "  def __init__(self, state_size, action_size):\n",
    "    super().__init__()\n",
    "    hidden_size = 8\n",
    "    \n",
    "    self.net = nn.Sequential(nn.Linear(state_size, hidden_size),\n",
    "                             nn.ReLU(),\n",
    "                             nn.Linear(hidden_size, hidden_size),\n",
    "                             nn.ReLU(),\n",
    "                             nn.Linear(hidden_size, hidden_size),\n",
    "                             nn.ReLU(),\n",
    "                             nn.Linear(hidden_size, action_size))  \n",
    "    \n",
    "  def forward(self, x):\n",
    "    \"\"\"Estimate q-values given state\n",
    "\n",
    "      Args:\n",
    "          state (tensor): current state, size (batch x state_size)\n",
    "\n",
    "      Returns:\n",
    "          q-values (tensor): estimated q-values, size (batch x action_size)\n",
    "    \"\"\"\n",
    "    return self.net(x)"
   ]
  },
  {
   "cell_type": "markdown",
   "metadata": {
    "id": "yCafVI552dgg"
   },
   "source": [
    "### Main"
   ]
  },
  {
   "cell_type": "code",
   "execution_count": 9,
   "metadata": {
    "colab": {
     "base_uri": "https://localhost:8080/",
     "height": 731
    },
    "id": "8Sy_r9Wr2eg8",
    "outputId": "ef8f55df-35f2-4c76-c37f-88e2904219d8"
   },
   "outputs": [
    {
     "name": "stderr",
     "output_type": "stream",
     "text": [
      "Episodes: 47 Reward: 15.0:  10%|▉         | 48/500 [00:02<00:27, 16.47it/s]<ipython-input-7-880d5ca38e77>:56: UserWarning: Creating a tensor from a list of numpy.ndarrays is extremely slow. Please consider converting the list to a single numpy.ndarray with numpy.array() before converting to a tensor. (Triggered internally at ../torch/csrc/utils/tensor_new.cpp:230.)\n",
      "  state = torch.tensor(state).cuda()\n",
      "Episodes: 498 Reward: 177.0: 100%|█████████▉| 499/500 [01:04<00:00,  2.89it/s]"
     ]
    },
    {
     "name": "stdout",
     "output_type": "stream",
     "text": [
      "Moviepy - Building video /content/video/rl-video-episode-0.mp4.\n",
      "Moviepy - Writing video /content/video/rl-video-episode-0.mp4\n",
      "\n"
     ]
    },
    {
     "name": "stderr",
     "output_type": "stream",
     "text": [
      "\n",
      "t:   0%|          | 0/202 [00:00<?, ?it/s, now=None]\u001b[A\n",
      "t:   1%|▏         | 3/202 [00:00<00:07, 27.91it/s, now=None]\u001b[A\n",
      "t:  24%|██▍       | 48/202 [00:00<00:00, 249.58it/s, now=None]\u001b[A\n",
      "t:  38%|███▊      | 77/202 [00:00<00:00, 263.31it/s, now=None]\u001b[A\n",
      "t:  51%|█████▏    | 104/202 [00:00<00:00, 262.45it/s, now=None]\u001b[A\n",
      "t:  65%|██████▍   | 131/202 [00:00<00:00, 256.26it/s, now=None]\u001b[A\n",
      "t:  78%|███████▊  | 157/202 [00:00<00:00, 254.69it/s, now=None]\u001b[A\n",
      "t:  91%|█████████ | 183/202 [00:00<00:00, 253.51it/s, now=None]\u001b[A\n",
      "                                                                              "
     ]
    },
    {
     "name": "stdout",
     "output_type": "stream",
     "text": [
      "Moviepy - Done !\n",
      "Moviepy - video ready /content/video/rl-video-episode-0.mp4\n"
     ]
    },
    {
     "name": "stderr",
     "output_type": "stream",
     "text": [
      "\r"
     ]
    },
    {
     "data": {
      "text/html": [
       "<video alt=\"test\" autoplay \n",
       "                loop controls style=\"height: 400px;\">\n",
       "                <source src=\"data:video/mp4;base64,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\" type=\"video/mp4\" />\n",
       "             </video>"
      ],
      "text/plain": [
       "<IPython.core.display.HTML object>"
      ]
     },
     "metadata": {},
     "output_type": "display_data"
    }
   ],
   "source": [
    "def dqn_main():\n",
    "  # Hyper parameters\n",
    "  lr = 1e-3\n",
    "  epochs = 500\n",
    "  start_training = 1000\n",
    "  gamma = 0.99\n",
    "  batch_size = 32\n",
    "  epsilon = 1\n",
    "  epsilon_decay = .9999\n",
    "  target_update = 1000\n",
    "  learn_frequency = 2\n",
    "\n",
    "  # Init environment\n",
    "  state_size = 4\n",
    "  action_size = 2\n",
    "  env = gym.make('CartPole-v1', render_mode=\"rgb_array\")\n",
    "\n",
    "  # Init networks\n",
    "  q_network = QNetwork(state_size, action_size).cuda()\n",
    "  target_network = QNetwork(state_size, action_size).cuda()\n",
    "  target_network.load_state_dict(q_network.state_dict())\n",
    "\n",
    "  # Init optimizer\n",
    "  optim = torch.optim.Adam(q_network.parameters(), lr=lr)\n",
    "\n",
    "  # Init replay buffer\n",
    "  memory = []\n",
    "\n",
    "  # Begin main loop\n",
    "  results_dqn = []\n",
    "  global_step = 0\n",
    "  loop = tqdm(total=epochs, position=0, leave=False)\n",
    "  for epoch in range(epochs):\n",
    "    ######################\n",
    "    last_epoch = (epoch+1 == epochs)\n",
    "    # Record the last epoch, not the previous epochs\n",
    "    if last_epoch:\n",
    "      env = wrap_env(env)\n",
    "    ######################\n",
    "\n",
    "    # Reset environment\n",
    "    state, _ = env.reset()\n",
    "    done = False\n",
    "    cum_reward = 0  # Track cumulative reward per episode\n",
    "\n",
    "    # Begin episode\n",
    "    while not done and cum_reward < 200:  # End after 200 steps \n",
    "      # Select e-greedy action\n",
    "      action, epsilon = get_action_dqn(q_network, state, epsilon, epsilon_decay)\n",
    "\n",
    "      # Take step\n",
    "      next_state, reward, terminated, truncated, _ = env.step(action)\n",
    "      done = terminated or truncated\n",
    "      # env.render()\n",
    "\n",
    "      # Store step in replay buffer\n",
    "      memory.append((state, action, next_state, reward, done))\n",
    "\n",
    "      cum_reward += reward\n",
    "      global_step += 1  # Increment total steps\n",
    "      state = next_state  # Set current state\n",
    "\n",
    "      # If time to train\n",
    "      if global_step > start_training and global_step % learn_frequency == 0:\n",
    "\n",
    "        # Sample batch\n",
    "        batch = prepare_batch(memory, batch_size)\n",
    "        \n",
    "        # Train\n",
    "        learn_dqn(batch, optim, q_network, target_network, gamma, global_step, target_update)\n",
    "    ######################\n",
    "    env.close()\n",
    "    ######################\n",
    "    # Print results at end of episode\n",
    "    results_dqn.append(cum_reward)\n",
    "    loop.update(1)\n",
    "    loop.set_description('Episodes: {} Reward: {}'.format(epoch, cum_reward))\n",
    "  \n",
    "  return results_dqn\n",
    "\n",
    "results_dqn = dqn_main()\n",
    "######################\n",
    "show_video()\n",
    "######################"
   ]
  },
  {
   "cell_type": "code",
   "execution_count": 10,
   "metadata": {
    "colab": {
     "base_uri": "https://localhost:8080/",
     "height": 430
    },
    "id": "ZWYwytCDC3aw",
    "outputId": "f53fde42-ec32-49ea-a348-abd7f55e1975"
   },
   "outputs": [
    {
     "data": {
      "image/png": "[encoded data removed]",
      "text/plain": [
       "<Figure size 640x480 with 1 Axes>"
      ]
     },
     "metadata": {},
     "output_type": "display_data"
    }
   ],
   "source": [
    "plt.plot(results_dqn)\n",
    "plt.show()"
   ]
  },
  {
   "cell_type": "markdown",
   "metadata": {
    "id": "qN9yy5EWVNz0"
   },
   "source": [
    "## PPO"
   ]
  },
  {
   "cell_type": "markdown",
   "metadata": {
    "id": "XvRUJUew0yN_"
   },
   "source": [
    "## Part 2\n",
    "\n",
    "Proximal Policy Optimization (https://arxiv.org/pdf/1707.06347.pdf) is a type of policy gradient method. Instead of calculating Q-values, we train a network $\\pi$ to optimize the probability of taking good actions directly, using states as inputs and actions as outputs. PPO also uses a value network $V$ that estimates state values in order to estimate the advantage $\\hat{A}$. \n",
    "\n",
    "Tuples of state, action distribution, action taken, and return $(s,\\pi(s), a,\\hat{R})$ are gathered for several rollouts. After training on this experience, these tuples are discarded and new experience is gathered.\n",
    "\n",
    "Loss for the value network and the policy network are calculated according to the following formula:\n",
    "\n",
    "$Loss=ValueLoss+PolicyLoss$\n",
    "\n",
    "$ValueLoss=\\frac{1}{N}\\sum \\bigg(\\hat{R} - V(s) \\bigg)^2 $\n",
    "\n",
    "$PolicyLoss=-\\frac{1}{N}\\sum \\min\\bigg( \\frac{\\pi'(a|s)}{\\pi(a|s)} \\hat{A}, clip(\\frac{\\pi'(a|s)}{\\pi(a|s)},1-\\epsilon,1+\\epsilon) \\hat{A} \\bigg) $\n",
    "\n",
    "$\\hat{R}_t = \\sum_{i=t}^H \\gamma^{i-1}r_i$\n",
    "\n",
    "$\\hat{A}_t=\\hat{R}_t-V(s_t)$\n",
    "\n",
    "Here, $\\pi'(a|s)$ is the probability of taking an action given a state under the current policy and $\\pi(a|s)$ is the probability of taking an action given a state under the policy used to gather data. In the loss function, $a$ is the action your agent actually took and is sampled from memory. \n",
    "\n",
    "Additionally, the $clip$ function clips the value of the first argument according to the lower and upper bounds in the second and third arguments resectively.\n",
    "\n",
    "Another important note: Your the calculation of your advantage $\\hat{A}$ should not permit gradient flow from your policy loss calculation. In other words, make sure to call `.detach()` on your advantage."
   ]
  },
  {
   "cell_type": "code",
   "execution_count": 23,
   "metadata": {
    "id": "zsm1pILHVcEp"
   },
   "outputs": [],
   "source": [
    "def calculate_return(memory, rollout, gamma):\n",
    "  \"\"\"Return memory with calculated return in experience tuple\n",
    "\n",
    "    Args:\n",
    "        memory (list): (state, action, action_dist, return) tuples\n",
    "        rollout (list): (state, action, action_dist, reward) tuples from last rollout\n",
    "        gamma (float): discount factor\n",
    "\n",
    "    Returns:\n",
    "        list: memory updated with (state, action, action_dist, return) tuples from rollout\n",
    "  \"\"\"\n",
    "  #initialize\n",
    "  r_e_t_u_r_n = 0       \n",
    "  memory_list = []          \n",
    "\n",
    "  #iterate over the rollout list in reverse order\n",
    "  for state, action, action_dist, reward in reversed(rollout):\n",
    "      r_e_t_u_r_n = reward + r_e_t_u_r_n * gamma  #calculate discounted return for this time step\n",
    "      memory_list.append((state, action, action_dist, r_e_t_u_r_n))  #add updated experience tuple to memory\n",
    "\n",
    "  return memory_list   \n",
    "\n",
    "\n",
    "\n",
    "def get_action_ppo(network, state):\n",
    "  \"\"\"Sample action from the distribution obtained from the policy network\n",
    "\n",
    "    Args:\n",
    "        network (PolicyNetwork): Policy Network\n",
    "        state (np-array): current state, size (state_size)\n",
    "\n",
    "    Returns:\n",
    "        int: action sampled from output distribution of policy network\n",
    "        array: output distribution of policy network\n",
    "  \"\"\"\n",
    "  #no gradient to be computed during the forward pass\n",
    "  with torch.no_grad():\n",
    "\n",
    "    #convert the state into a torch tensor \n",
    "    state_tensor = torch.cuda.FloatTensor(state).unsqueeze(0)\n",
    "    bananas = network(state_tensor)\n",
    "\n",
    "    #detach the output from the computational graph\n",
    "    oranges = bananas.detach().cpu().numpy()[0]\n",
    "\n",
    "    #sample an action from the output distribution\n",
    "    action = np.argmax(np.random.multinomial(1, oranges))\n",
    "\n",
    "    # return the sampled action and the output distribution obtained from the policy network\n",
    "    return action, bananas\n",
    "\n",
    "def learn_ppo(optim, policy, value, memory_dataloader, epsilon, policy_epochs):\n",
    "    \"\"\"Implement PPO policy and value network updates. Iterate over your entire \n",
    "    memory the number of times indicated by policy_epochs.    \n",
    "\n",
    "    Args:\n",
    "        optim (Adam): value and policy optimizer\n",
    "        policy (PolicyNetwork): Policy Network\n",
    "        value (ValueNetwork): Value Network\n",
    "        memory_dataloader (DataLoader): dataloader with (state, action, action_dist, return) tensors\n",
    "        epsilon (float): trust region\n",
    "        policy_epochs (int): number of times to iterate over all memory\n",
    "    \"\"\"\n",
    "\n",
    "    device = next(policy.parameters()).device\n",
    "    \"\"\"I get bored out of my mind doing these projects so to keep myself entertained I make crazy varaible names. \n",
    "    I understand it. Sorry if it confuses you. I can change it if you want.\"\"\"\n",
    "\n",
    "    for i in range(policy_epochs):\n",
    "        for state, action, action_dist, r_e_t_u_r_n in memory_dataloader:\n",
    "            optim.zero_grad()\n",
    "\n",
    "            #move state tensor to GPU\n",
    "            state = state.to(device)\n",
    "\n",
    "            #calculate the probability of the action taken given the state\n",
    "            back = action_dist.squeeze(1)[range(action_dist.shape[0]), action]\n",
    "\n",
    "            #get the probability distribution of the policy network for the given state\n",
    "            exSQUEEZEme = policy(state)\n",
    "            current = exSQUEEZEme.squeeze(1)[range(exSQUEEZEme.shape[0]), action]\n",
    "\n",
    "            #calculate the advantage of the action taken\n",
    "            guessrrrr = r_e_t_u_r_n - value(state).squeeze(1)\n",
    "\n",
    "            #calculate the policy loss\n",
    "            sunrise = (current / back) * guessrrrr.detach()\n",
    "            sunset = torch.clamp((current / back), 1 - epsilon, 1 + epsilon) * guessrrrr.detach()\n",
    "            policy_loss = -torch.mean(torch.min(sunrise, sunset))\n",
    "\n",
    "            #calculate the value loss\n",
    "            loss = (guessrrrr**2).mean()\n",
    "\n",
    "            #calculate the total loss as the sum of policy and value loss\n",
    "            total_loss = policy_loss + loss\n",
    "\n",
    "            #backpropagate the gradients through the network and update the optimizer\n",
    "            policy_loss.backward()\n",
    "            optim.step()\n"
   ]
  },
  {
   "cell_type": "markdown",
   "metadata": {
    "id": "R6RXma_-vSGX"
   },
   "source": [
    "### Modules"
   ]
  },
  {
   "cell_type": "code",
   "execution_count": 24,
   "metadata": {
    "id": "L8URnP8xvTTG"
   },
   "outputs": [],
   "source": [
    "# Dataset that wraps memory for a dataloader\n",
    "class RLDataset(Dataset):\n",
    "  def __init__(self, data):\n",
    "    super().__init__()\n",
    "    self.data = []\n",
    "    for d in data:\n",
    "      self.data.append(d)\n",
    "  \n",
    "  def __getitem__(self, index):\n",
    "    return self.data[index]\n",
    " \n",
    "  def __len__(self):\n",
    "    return len(self.data)\n",
    "\n",
    "\n",
    "# Policy Network\n",
    "class PolicyNetwork(nn.Module):\n",
    "  def __init__(self, state_size, action_size):\n",
    "    super().__init__()\n",
    "    hidden_size = 8\n",
    "    \n",
    "    self.net = nn.Sequential(nn.Linear(state_size, hidden_size),\n",
    "                             nn.ReLU(),\n",
    "                             nn.Linear(hidden_size, hidden_size),\n",
    "                             nn.ReLU(),\n",
    "                             nn.Linear(hidden_size, hidden_size),\n",
    "                             nn.ReLU(),\n",
    "                             nn.Linear(hidden_size, action_size),\n",
    "                             nn.Softmax(dim=1))\n",
    "  \n",
    "  def forward(self, x):\n",
    "    \"\"\"Get policy from state\n",
    "\n",
    "      Args:\n",
    "          state (tensor): current state, size (batch x state_size)\n",
    "\n",
    "      Returns:\n",
    "          action_dist (tensor): probability distribution over actions (batch x action_size)\n",
    "    \"\"\"\n",
    "    return self.net(x)\n",
    "  \n",
    "\n",
    "# Value Network\n",
    "class ValueNetwork(nn.Module):\n",
    "  def __init__(self, state_size):\n",
    "    super().__init__()\n",
    "    hidden_size = 8\n",
    "  \n",
    "    self.net = nn.Sequential(nn.Linear(state_size, hidden_size),\n",
    "                             nn.ReLU(),\n",
    "                             nn.Linear(hidden_size, hidden_size),\n",
    "                             nn.ReLU(),\n",
    "                             nn.Linear(hidden_size, hidden_size),\n",
    "                             nn.ReLU(),\n",
    "                             nn.Linear(hidden_size, 1))\n",
    "    \n",
    "  def forward(self, x):\n",
    "    \"\"\"Estimate value given state\n",
    "\n",
    "      Args:\n",
    "          state (tensor): current state, size (batch x state_size)\n",
    "\n",
    "      Returns:\n",
    "          value (tensor): estimated value, size (batch)\n",
    "    \"\"\"\n",
    "    return self.net(x)"
   ]
  },
  {
   "cell_type": "markdown",
   "metadata": {
    "id": "_aBD_R_e01Qb"
   },
   "source": [
    "### Main"
   ]
  },
  {
   "cell_type": "code",
   "execution_count": 25,
   "metadata": {
    "colab": {
     "base_uri": "https://localhost:8080/",
     "height": 1000
    },
    "id": "qX_Bv4M4MyY2",
    "outputId": "0fcc43e8-d503-4049-de92-3232992e1df5"
   },
   "outputs": [
    {
     "name": "stderr",
     "output_type": "stream",
     "text": [
      "Epochs: 18 Reward: 28.0:  95%|█████████▌| 19/20 [00:17<00:00,  1.30it/s]"
     ]
    },
    {
     "name": "stdout",
     "output_type": "stream",
     "text": [
      "Moviepy - Building video /content/video/rl-video-episode-0.mp4.\n",
      "Moviepy - Writing video /content/video/rl-video-episode-0.mp4\n",
      "\n"
     ]
    },
    {
     "name": "stderr",
     "output_type": "stream",
     "text": [
      "\n",
      "t:   0%|          | 0/47 [00:00<?, ?it/s, now=None]\u001b[A\n",
      "t:  96%|█████████▌| 45/47 [00:00<00:00, 444.31it/s, now=None]\u001b[A\n"
     ]
    },
    {
     "name": "stdout",
     "output_type": "stream",
     "text": [
      "Moviepy - Done !\n",
      "Moviepy - video ready /content/video/rl-video-episode-0.mp4\n",
      "Moviepy - Building video /content/video/rl-video-episode-1.mp4.\n"
     ]
    },
    {
     "name": "stderr",
     "output_type": "stream",
     "text": [
      "Epochs: 18 Reward: 28.0:  95%|█████████▌| 19/20 [00:18<00:00,  1.30it/s]"
     ]
    },
    {
     "name": "stdout",
     "output_type": "stream",
     "text": [
      "Moviepy - Writing video /content/video/rl-video-episode-1.mp4\n",
      "\n"
     ]
    },
    {
     "name": "stderr",
     "output_type": "stream",
     "text": [
      "\n",
      "t:   0%|          | 0/21 [00:00<?, ?it/s, now=None]\u001b[A\n",
      "Epochs: 18 Reward: 28.0:  95%|█████████▌| 19/20 [00:18<00:00,  1.30it/s]"
     ]
    },
    {
     "name": "stdout",
     "output_type": "stream",
     "text": [
      "Moviepy - Done !\n",
      "Moviepy - video ready /content/video/rl-video-episode-1.mp4\n",
      "Moviepy - Building video /content/video/rl-video-episode-8.mp4.\n",
      "Moviepy - Writing video /content/video/rl-video-episode-8.mp4\n",
      "\n"
     ]
    },
    {
     "name": "stderr",
     "output_type": "stream",
     "text": [
      "\n",
      "t:   0%|          | 0/1 [00:00<?, ?it/s, now=None]\u001b[A\n",
      "Epochs: 18 Reward: 28.0:  95%|█████████▌| 19/20 [00:18<00:00,  1.30it/s]"
     ]
    },
    {
     "name": "stdout",
     "output_type": "stream",
     "text": [
      "Moviepy - Done !\n",
      "Moviepy - video ready /content/video/rl-video-episode-8.mp4\n",
      "Moviepy - Building video /content/video/rl-video-episode-8.mp4.\n",
      "Moviepy - Writing video /content/video/rl-video-episode-8.mp4\n",
      "\n"
     ]
    },
    {
     "name": "stderr",
     "output_type": "stream",
     "text": [
      "\n",
      "t:   0%|          | 0/18 [00:00<?, ?it/s, now=None]\u001b[A\n"
     ]
    },
    {
     "name": "stdout",
     "output_type": "stream",
     "text": [
      "Moviepy - Done !\n",
      "Moviepy - video ready /content/video/rl-video-episode-8.mp4\n"
     ]
    },
    {
     "name": "stderr",
     "output_type": "stream",
     "text": [
      "  0%|          | 0/20 [02:55<?, ?it/s]"
     ]
    },
    {
     "name": "stdout",
     "output_type": "stream",
     "text": [
      "Moviepy - Building video /content/video/rl-video-episode-27.mp4.\n",
      "Moviepy - Writing video /content/video/rl-video-episode-27.mp4\n",
      "\n"
     ]
    },
    {
     "name": "stderr",
     "output_type": "stream",
     "text": [
      "\n",
      "t:   0%|          | 0/1 [00:00<?, ?it/s, now=None]\u001b[A\n",
      "Epochs: 18 Reward: 28.0:  95%|█████████▌| 19/20 [00:19<00:00,  1.30it/s]"
     ]
    },
    {
     "name": "stdout",
     "output_type": "stream",
     "text": [
      "Moviepy - Done !\n",
      "Moviepy - video ready /content/video/rl-video-episode-27.mp4\n"
     ]
    },
    {
     "name": "stderr",
     "output_type": "stream",
     "text": []
    },
    {
     "name": "stdout",
     "output_type": "stream",
     "text": [
      "Moviepy - Building video /content/video/rl-video-episode-27.mp4.\n"
     ]
    },
    {
     "name": "stderr",
     "output_type": "stream",
     "text": [
      "  0%|          | 0/20 [02:55<?, ?it/s]"
     ]
    },
    {
     "name": "stdout",
     "output_type": "stream",
     "text": [
      "Moviepy - Writing video /content/video/rl-video-episode-27.mp4\n",
      "\n"
     ]
    },
    {
     "name": "stderr",
     "output_type": "stream",
     "text": [
      "\n",
      "t:   0%|          | 0/24 [00:00<?, ?it/s, now=None]\u001b[A\n",
      "  0%|          | 0/20 [02:55<?, ?it/s]"
     ]
    },
    {
     "name": "stdout",
     "output_type": "stream",
     "text": [
      "Moviepy - Done !\n",
      "Moviepy - video ready /content/video/rl-video-episode-27.mp4\n"
     ]
    },
    {
     "name": "stderr",
     "output_type": "stream",
     "text": [
      "  0%|          | 0/20 [02:56<?, ?it/s]"
     ]
    },
    {
     "name": "stdout",
     "output_type": "stream",
     "text": [
      "Moviepy - Building video /content/video/rl-video-episode-64.mp4.\n",
      "Moviepy - Writing video /content/video/rl-video-episode-64.mp4\n",
      "\n"
     ]
    },
    {
     "name": "stderr",
     "output_type": "stream",
     "text": [
      "\n",
      "t:   0%|          | 0/1 [00:00<?, ?it/s, now=None]\u001b[A\n",
      "  0%|          | 0/20 [02:56<?, ?it/s]"
     ]
    },
    {
     "name": "stdout",
     "output_type": "stream",
     "text": [
      "Moviepy - Done !\n",
      "Moviepy - video ready /content/video/rl-video-episode-64.mp4\n"
     ]
    },
    {
     "name": "stderr",
     "output_type": "stream",
     "text": [
      "  0%|          | 0/20 [02:56<?, ?it/s]"
     ]
    },
    {
     "name": "stdout",
     "output_type": "stream",
     "text": [
      "Moviepy - Building video /content/video/rl-video-episode-64.mp4.\n",
      "Moviepy - Writing video /content/video/rl-video-episode-64.mp4\n",
      "\n"
     ]
    },
    {
     "name": "stderr",
     "output_type": "stream",
     "text": [
      "\n",
      "t:   0%|          | 0/16 [00:00<?, ?it/s, now=None]\u001b[A\n",
      "  0%|          | 0/20 [02:56<?, ?it/s]"
     ]
    },
    {
     "name": "stdout",
     "output_type": "stream",
     "text": [
      "Moviepy - Done !\n",
      "Moviepy - video ready /content/video/rl-video-episode-64.mp4\n"
     ]
    },
    {
     "name": "stderr",
     "output_type": "stream",
     "text": []
    },
    {
     "data": {
      "text/html": [
       "<video alt=\"test\" autoplay \n",
       "                loop controls style=\"height: 400px;\">\n",
       "                <source src=\"data:video/mp4;base64,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\" type=\"video/mp4\" />\n",
       "             </video>"
      ],
      "text/plain": [
       "<IPython.core.display.HTML object>"
      ]
     },
     "metadata": {},
     "output_type": "display_data"
    }
   ],
   "source": [
    "def ppo_main():\n",
    "  # Hyper parameters\n",
    "  lr = 1e-3\n",
    "  epochs = 20\n",
    "  env_samples = 100\n",
    "  gamma = 0.9\n",
    "  batch_size = 256\n",
    "  epsilon = 0.2\n",
    "  policy_epochs = 5\n",
    "\n",
    "  # Init environment \n",
    "  state_size = 4\n",
    "  action_size = 2\n",
    "  env = gym.make('CartPole-v1', render_mode=\"rgb_array\")\n",
    "\n",
    "  # Init networks\n",
    "  policy_network = PolicyNetwork(state_size, action_size).cuda()\n",
    "  value_network = ValueNetwork(state_size).cuda()\n",
    "\n",
    "  # Init optimizer\n",
    "  optim = torch.optim.Adam(chain(policy_network.parameters(), value_network.parameters()), lr=lr)\n",
    "\n",
    "  # Start main loop\n",
    "  results_ppo = []\n",
    "  loop = tqdm(total=epochs, position=0, leave=False)\n",
    "  for epoch in range(epochs):\n",
    "    ######################\n",
    "    last_epoch = (epoch+1 == epochs)\n",
    "    # Record only last epoch\n",
    "    if last_epoch:\n",
    "      env = wrap_env(env)\n",
    "    ######################\n",
    "    \n",
    "    memory = []  # Reset memory every epoch\n",
    "    rewards = []  # Calculate average episodic reward per epoch\n",
    "\n",
    "    # Begin experience loop\n",
    "    for episode in range(env_samples):\n",
    "      \n",
    "      # Reset environment\n",
    "      state, _ = env.reset()\n",
    "      done = False\n",
    "      rollout = []\n",
    "      cum_reward = 0  # Track cumulative reward\n",
    "\n",
    "      # Begin episode\n",
    "      while not done and cum_reward < 200:  # End after 200 steps   \n",
    "        # Get action\n",
    "        action, action_dist = get_action_ppo(policy_network, state)\n",
    "        \n",
    "        # Take step\n",
    "        next_state, reward, terminated, truncated, _ = env.step(action)\n",
    "        done = terminated or truncated\n",
    "        # env.render()\n",
    "\n",
    "        # Store step\n",
    "        rollout.append((state, action, action_dist, reward))\n",
    "\n",
    "        cum_reward += reward\n",
    "        state = next_state  # Set current state\n",
    "\n",
    "      # Calculate returns and add episode to memory\n",
    "      memory = calculate_return(memory, rollout, gamma)\n",
    "\n",
    "      rewards.append(cum_reward)\n",
    "      ######################\n",
    "      env.close()\n",
    "      ######################\n",
    "    # Train\n",
    "    dataset = RLDataset(memory)\n",
    "    loader = DataLoader(dataset, batch_size=batch_size, shuffle=True)\n",
    "    learn_ppo(optim, policy_network, value_network, loader, epsilon, policy_epochs)\n",
    "    \n",
    "    # Print results\n",
    "    results_ppo.extend(rewards)  # Store rewards for this epoch\n",
    "    loop.update(1)\n",
    "    loop.set_description(\"Epochs: {} Reward: {}\".format(epoch, results_ppo[-1]))\n",
    "\n",
    "  return results_ppo\n",
    "\n",
    "results_ppo = ppo_main()\n",
    "######################\n",
    "show_video()\n",
    "######################"
   ]
  },
  {
   "cell_type": "code",
   "execution_count": 26,
   "metadata": {
    "colab": {
     "base_uri": "https://localhost:8080/",
     "height": 430
    },
    "id": "pLXetCMpC1DE",
    "outputId": "90c55674-b787-4218-8190-2aacda611ceb"
   },
   "outputs": [
    {
     "name": "stderr",
     "output_type": "stream",
     "text": []
    },
    {
     "data": {
      "image/png": "[encoded data removed]",
      "text/plain": [
       "<Figure size 640x480 with 1 Axes>"
      ]
     },
     "metadata": {},
     "output_type": "display_data"
    }
   ],
   "source": [
    "plt.plot(results_ppo)\n",
    "plt.show()"
   ]
  },
  {
   "cell_type": "code",
   "execution_count": null,
   "metadata": {
    "id": "wHkJqFlnUS9F"
   },
   "outputs": [],
   "source": []
  }
 ],
 "metadata": {
  "accelerator": "GPU",
  "colab": {
   "provenance": []
  },
  "kernelspec": {
   "display_name": "Python 3 (ipykernel)",
   "language": "python",
   "name": "python3"
  },
  "language_info": {
   "codemirror_mode": {
    "name": "ipython",
    "version": 3
   },
   "file_extension": ".py",
   "mimetype": "text/x-python",
   "name": "python",
   "nbconvert_exporter": "python",
   "pygments_lexer": "ipython3",
   "version": "3.9.13"
  }
 },
 "nbformat": 4,
 "nbformat_minor": 1
}
