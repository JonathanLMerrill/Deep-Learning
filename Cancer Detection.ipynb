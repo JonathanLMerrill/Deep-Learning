{
 "cells": [
  {
   "cell_type": "markdown",
   "metadata": {
    "id": "tpnN_XZwq_vc"
   },
   "source": [
    "<a href=\"https://colab.research.google.com/github/wingated/cs474_labs_f2019/blob/master/DL_Lab4.ipynb\" target=\"_parent\"><img src=\"https://colab.research.google.com/assets/colab-badge.svg\" alt=\"Open In Colab\"/></a>"
   ]
  },
  {
   "cell_type": "markdown",
   "metadata": {
    "id": "view-in-github"
   },
   "source": [
    "# Cancer Detection\n",
    "\n",
    "## Data set\n",
    "The data is given as a set of 1024×1024 PNG images. Each input image (in \n",
    "the ```inputs``` directory) is an RGB image of a section of tissue,\n",
    "and there a file with the same name (in the ```outputs``` directory) \n",
    "that has a dense labeling of whether or not a section of tissue is cancerous\n",
    "(white pixels mean “cancerous”, while black pixels mean “not cancerous”).\n",
    "\n",
    "The data has been pre-split for you into test and training splits.\n",
    "Filenames also reflect whether or not the image has any cancer at all \n",
    "(files starting with ```pos_``` have some cancerous pixels, while files \n",
    "starting with ```neg_``` have no cancer anywhere).\n",
    "All of the data is hand-labeled, so the dataset is not very large.\n",
    "That means that overfitting is a real possibility.\n",
    "\n",
    "## Description\n",
    "For a video including some tips and tricks that can help with this lab: [https://youtu.be/Ms19kgK_D8w](https://youtu.be/Ms19kgK_D8w)\n",
    "For this lab, you will implement a virtual radiologist.\n",
    "You are given images of possibly cancerous tissue samples, \n",
    "and you must build a detector that identifies where in the tissue cancer may reside.\n",
    "\n",
    "---\n",
    "\n",
    "### Part 1\n",
    "Implement a dense predictor\n",
    "\n",
    "In previous labs and lectures, we have talked about DNNs that classify an \n",
    "entire image as a single class. Here, however, we are interested in a more nuanced classification: \n",
    "given an input image, we would like to identify each pixel that is possibly cancerous. \n",
    "That means that instead of a single output, your network should output an “image”, \n",
    "where each output pixel of your network represents the probability that a pixel is cancerous.\n",
    "\n",
    "___\n",
    "\n",
    "Implement your network topology\n",
    "\n",
    "Use the “Deep Convolution U-Net” from this paper: [(U-Net: Convolutional Networks for Biomedical Image Segmentation)](https://arxiv.org/pdf/1505.04597.pdf) \n",
    "\n",
    "![(Figure 1)](https://lh3.googleusercontent.com/qnHiB3B2KRxC3NjiSDtY08_DgDGTDsHcO6PP53oNRuct-p2QXCR-gyLkDveO850F2tTAhIOPC5Ha06NP9xq1JPsVAHlQ5UXA5V-9zkUrJHGhP_MNHFoRGnjBz1vn1p8P2rMWhlAb6HQ=w2400)\n",
    "\n",
    "You should use existing pytorch functions (not your own Conv2D module), such as ```nn.Conv2d``` and ```nn.CrossEntropyLoss```;\n",
    "you will also need the pytorch function ```torch.cat``` and ```nn.ConvTranspose2d```\n",
    "\n",
    "```torch.cat``` allows you to concatenate tensors.\n",
    "```nn.ConvTranspose2d``` is the opposite of ```nn.Conv2d```.\n",
    "It is used to bring an image from low res to higher res.\n",
    "[This blog](https://towardsdatascience.com/up-sampling-with-transposed-convolution-9ae4f2df52d0) should help you understand this function in detail.\n",
    "\n",
    "You can simplify the implementation of this lab by padding the feature maps as they pass through each convolution. This will make the concatenation process easier, though this is technically a departure from the cropping technique outlined in the orginal U-Net paper. \n",
    "\n",
    "Note that the simplest network you could implement (with all the desired properties)\n",
    "is just a single convolution layer with two filters and no relu! \n",
    "Why is that? (of course it wouldn't work very well!)\n"
   ]
  },
  {
   "cell_type": "code",
   "execution_count": 2,
   "metadata": {
    "colab": {
     "base_uri": "https://localhost:8080/",
     "height": 495
    },
    "id": "wQOefmcZVgTl",
    "outputId": "a458e456-9b9e-4bc0-ce76-abcb5bf5fe17",
    "pycharm": {
     "is_executing": false
    }
   },
   "outputs": [
    {
     "name": "stdout",
     "output_type": "stream",
     "text": [
      "Looking in indexes: https://pypi.org/simple, https://us-python.pkg.dev/colab-wheels/public/simple/\n",
      "Requirement already satisfied: torch in /usr/local/lib/python3.8/dist-packages (1.13.1+cu116)\n",
      "Requirement already satisfied: typing-extensions in /usr/local/lib/python3.8/dist-packages (from torch) (4.4.0)\n",
      "Looking in indexes: https://pypi.org/simple, https://us-python.pkg.dev/colab-wheels/public/simple/\n",
      "Requirement already satisfied: torchvision in /usr/local/lib/python3.8/dist-packages (0.14.1+cu116)\n",
      "Requirement already satisfied: pillow!=8.3.*,>=5.3.0 in /usr/local/lib/python3.8/dist-packages (from torchvision) (7.1.2)\n",
      "Requirement already satisfied: typing-extensions in /usr/local/lib/python3.8/dist-packages (from torchvision) (4.4.0)\n",
      "Requirement already satisfied: requests in /usr/local/lib/python3.8/dist-packages (from torchvision) (2.25.1)\n",
      "Requirement already satisfied: torch==1.13.1 in /usr/local/lib/python3.8/dist-packages (from torchvision) (1.13.1+cu116)\n",
      "Requirement already satisfied: numpy in /usr/local/lib/python3.8/dist-packages (from torchvision) (1.21.6)\n",
      "Requirement already satisfied: urllib3<1.27,>=1.21.1 in /usr/local/lib/python3.8/dist-packages (from requests->torchvision) (1.24.3)\n",
      "Requirement already satisfied: certifi>=2017.4.17 in /usr/local/lib/python3.8/dist-packages (from requests->torchvision) (2022.12.7)\n",
      "Requirement already satisfied: idna<3,>=2.5 in /usr/local/lib/python3.8/dist-packages (from requests->torchvision) (2.10)\n",
      "Requirement already satisfied: chardet<5,>=3.0.2 in /usr/local/lib/python3.8/dist-packages (from requests->torchvision) (4.0.0)\n",
      "Looking in indexes: https://pypi.org/simple, https://us-python.pkg.dev/colab-wheels/public/simple/\n",
      "Requirement already satisfied: tqdm in /usr/local/lib/python3.8/dist-packages (4.64.1)\n"
     ]
    },
    {
     "ename": "AssertionError",
     "evalue": "ignored",
     "output_type": "error",
     "traceback": [
      "\u001b[0;31m---------------------------------------------------------------------------\u001b[0m",
      "\u001b[0;31mAssertionError\u001b[0m                            Traceback (most recent call last)",
      "\u001b[0;32m<ipython-input-2-c962bfd9f09b>\u001b[0m in \u001b[0;36m<module>\u001b[0;34m\u001b[0m\n\u001b[1;32m     22\u001b[0m \u001b[0m__ITB__\u001b[0m \u001b[0;34m=\u001b[0m \u001b[0mAutoFormattedTB\u001b[0m\u001b[0;34m(\u001b[0m\u001b[0mmode\u001b[0m \u001b[0;34m=\u001b[0m \u001b[0;34m'Verbose'\u001b[0m\u001b[0;34m,\u001b[0m\u001b[0mcolor_scheme\u001b[0m\u001b[0;34m=\u001b[0m\u001b[0;34m'LightBg'\u001b[0m\u001b[0;34m,\u001b[0m \u001b[0mtb_offset\u001b[0m \u001b[0;34m=\u001b[0m \u001b[0;36m1\u001b[0m\u001b[0;34m)\u001b[0m\u001b[0;34m\u001b[0m\u001b[0;34m\u001b[0m\u001b[0m\n\u001b[1;32m     23\u001b[0m \u001b[0;34m\u001b[0m\u001b[0m\n\u001b[0;32m---> 24\u001b[0;31m \u001b[0;32massert\u001b[0m \u001b[0mtorch\u001b[0m\u001b[0;34m.\u001b[0m\u001b[0mcuda\u001b[0m\u001b[0;34m.\u001b[0m\u001b[0mis_available\u001b[0m\u001b[0;34m(\u001b[0m\u001b[0;34m)\u001b[0m\u001b[0;34m,\u001b[0m \u001b[0;34m\"You need to request a GPU from Runtime > Change Runtime\"\u001b[0m\u001b[0;34m\u001b[0m\u001b[0;34m\u001b[0m\u001b[0m\n\u001b[0m",
      "\u001b[0;31mAssertionError\u001b[0m: You need to request a GPU from Runtime > Change Runtime"
     ]
    }
   ],
   "source": [
    "!pip3 install torch\n",
    "!pip3 install torchvision\n",
    "!pip3 install tqdm\n",
    "\n",
    "import torch\n",
    "import torch.nn as nn\n",
    "import torch.nn.functional as F\n",
    "import torch.optim as optim\n",
    "from torch.utils.data import Dataset, DataLoader\n",
    "import numpy as np\n",
    "import matplotlib.pyplot as plt\n",
    "from torchvision import transforms, utils, datasets\n",
    "from tqdm import tqdm\n",
    "from torch.nn.parameter import Parameter\n",
    "import pdb\n",
    "import torchvision\n",
    "import os\n",
    "import gzip\n",
    "import tarfile\n",
    "import gc\n",
    "from IPython.core.ultratb import AutoFormattedTB\n",
    "__ITB__ = AutoFormattedTB(mode = 'Verbose',color_scheme='LightBg', tb_offset = 1)\n",
    "\n",
    "assert torch.cuda.is_available(), \"You need to request a GPU from Runtime > Change Runtime\""
   ]
  },
  {
   "cell_type": "markdown",
   "metadata": {
    "id": "49quyvIJvTq8"
   },
   "source": [
    "WARNING: You may run into an error that says \"RuntimeError: CUDA out of memory.\"\n",
    "\n",
    "In this case, the memory required for your batch is larger than what the GPU is capable of. You can solve this problem by adjusting the image size or the batch size and then restarting the runtime. "
   ]
  },
  {
   "cell_type": "code",
   "execution_count": null,
   "metadata": {
    "id": "Il_53HLSWPTY"
   },
   "outputs": [],
   "source": [
    "class CancerDataset(Dataset):\n",
    "  def __init__(self, root, download=True, size=512, train=True):\n",
    "    if download and not os.path.exists(os.path.join(root, 'cancer_data')):\n",
    "      datasets.utils.download_url('http://liftothers.org/cancer_data.tar.gz', root, 'cancer_data.tar.gz', None)\n",
    "      self.extract_gzip(os.path.join(root, 'cancer_data.tar.gz'))\n",
    "      self.extract_tar(os.path.join(root, 'cancer_data.tar'))\n",
    "    \n",
    "    postfix = 'train' if train else 'test'\n",
    "    root = os.path.join(root, 'cancer_data', 'cancer_data')\n",
    "    self.dataset_folder = torchvision.datasets.ImageFolder(os.path.join(root, 'inputs_' + postfix) ,transform = transforms.Compose([transforms.Resize(size),transforms.ToTensor()]))\n",
    "    self.label_folder = torchvision.datasets.ImageFolder(os.path.join(root, 'outputs_' + postfix) ,transform = transforms.Compose([transforms.Resize(size),transforms.ToTensor()]))\n",
    "\n",
    "  @staticmethod\n",
    "  def extract_gzip(gzip_path, remove_finished=False):\n",
    "    print('Extracting {}'.format(gzip_path))\n",
    "    with open(gzip_path.replace('.gz', ''), 'wb') as out_f, gzip.GzipFile(gzip_path) as zip_f:\n",
    "      out_f.write(zip_f.read())\n",
    "    if remove_finished:\n",
    "      os.unlink(gzip_path)\n",
    "  \n",
    "  @staticmethod\n",
    "  def extract_tar(tar_path):\n",
    "    print('Untarring {}'.format(tar_path))\n",
    "    z = tarfile.TarFile(tar_path)\n",
    "    z.extractall(tar_path.replace('.tar', ''))\n",
    "\n",
    "  def __getitem__(self,index):\n",
    "    img = self.dataset_folder[index]\n",
    "    label = self.label_folder[index]\n",
    "    return img[0],label[0][0]\n",
    "  \n",
    "  def __len__(self):\n",
    "    return len(self.dataset_folder)"
   ]
  },
  {
   "cell_type": "code",
   "execution_count": 115,
   "metadata": {
    "id": "XH7qJ4CqgUjm"
   },
   "outputs": [],
   "source": [
    "#UNet Structure Cancer Detection Method (this is the one I used)\n",
    "class CancerDetection(nn.Module):\n",
    "    def __init__(self):\n",
    "        super(CancerDetection, self).__init__()\n",
    "        \n",
    "        self.down_block1 = nn.Sequential(\n",
    "            nn.Conv2d(3, 64, kernel_size=3, stride=1, padding=1),\n",
    "            nn.ReLU(),\n",
    "            nn.BatchNorm2d(64),\n",
    "            nn.Conv2d(64, 64, kernel_size=3, stride=1, padding=1),\n",
    "            nn.ReLU(),\n",
    "            nn.BatchNorm2d(64),\n",
    "            nn.MaxPool2d(kernel_size=2, stride=2)\n",
    "        )\n",
    "        \n",
    "        self.down_block2 = nn.Sequential(\n",
    "            nn.Conv2d(64, 128, kernel_size=3, stride=1, padding=1),\n",
    "            nn.ReLU(),\n",
    "            nn.BatchNorm2d(128),\n",
    "            nn.Conv2d(128, 128, kernel_size=3, stride=1, padding=1),\n",
    "            nn.ReLU(),\n",
    "            nn.BatchNorm2d(128),\n",
    "            nn.MaxPool2d(kernel_size=2, stride=2)\n",
    "        )\n",
    "        \n",
    "        self.up_block = nn.Sequential(\n",
    "            nn.ConvTranspose2d(128, 64, kernel_size=2, stride=2),\n",
    "            nn.Conv2d(128, 64, kernel_size=3, stride=1, padding=1),\n",
    "            nn.ReLU(),\n",
    "            nn.BatchNorm2d(64),\n",
    "            nn.Conv2d(64, 64, kernel_size=3, stride=1, padding=1),\n",
    "            nn.ReLU(),\n",
    "            nn.BatchNorm2d(64),\n",
    "        )\n",
    "        \n",
    "        self.out = nn.Sequential(\n",
    "            nn.Conv2d(64, 1, kernel_size=1, stride=1),\n",
    "            nn.Sigmoid()\n",
    "        )\n",
    "        \n",
    "    def forward(self, x):\n",
    "        x1 = self.down_block1(x)\n",
    "        x2 = self.down_block2(x1)\n",
    "        x = self.up_block(x2)\n",
    "        x = torch.cat((x, x1), dim=1)\n",
    "        x = self.out(x)\n",
    "        return x\n"
   ]
  },
  {
   "cell_type": "code",
   "execution_count": null,
   "metadata": {
    "id": "jq22IyKanxo_"
   },
   "outputs": [],
   "source": [
    "#original CancerDetection method without UNet Structure\n",
    "class CancerDetection(nn.Module):\n",
    "  def __init__(self):\n",
    "    super(CancerDetection, self).__init__()\n",
    "    self.conv1 = nn.Conv2d(3,64,kernel_size = 3, stride = 1, padding = 1)\n",
    "    self.relu2 = nn.ReLU()\n",
    "    self.conv3 = nn.Conv2d(64,128,kernel_size = 3, stride = 1, padding = 1)\n",
    "    self.relu4 = nn.ReLU()\n",
    " \n",
    "  def forward(self, input):\n",
    "    conv1_out = self.conv1(input)\n",
    "    relu2_out = self.relu2(conv1_out)\n",
    "    conv3_out = self.conv3(relu2_out)\n",
    "    relu4_out = self.relu4(conv3_out) \n",
    "    return relu4_out"
   ]
  },
  {
   "cell_type": "code",
   "execution_count": 133,
   "metadata": {
    "colab": {
     "base_uri": "https://localhost:8080/",
     "height": 295
    },
    "id": "RkieTbwlYWPS",
    "outputId": "c15881f2-714d-469a-de1b-380940780da5"
   },
   "outputs": [
    {
     "name": "stderr",
     "output_type": "stream",
     "text": []
    },
    {
     "data": {
      "image/png": "[encoded data removed]",
      "text/plain": [
       "<Figure size 864x288 with 2 Axes>"
      ]
     },
     "metadata": {
      "needs_background": "light"
     },
     "output_type": "display_data"
    }
   ],
   "source": [
    "import time\n",
    "\n",
    "def scope():\n",
    "  try:\n",
    "    train_dataset = CancerDataset(root='./data2', train=True)\n",
    "    val_dataset = CancerDataset(root='./data2', train=False)\n",
    "\n",
    "    model = CancerDetection()\n",
    "    model.cuda()\n",
    "    objective = nn.CrossEntropyLoss()\n",
    "    optimizer = optim.Adam(model.parameters(), lr = 1e-4)\n",
    "    train_loader = DataLoader(train_dataset, batch_size = 6, num_workers = 2, pin_memory = True)\n",
    "    val_loader = DataLoader(val_dataset, batch_size = 6, pin_memory = True)\n",
    "    \n",
    "    gc.collect()\n",
    "    \n",
    "    losses = []\n",
    "    validations = []\n",
    "\n",
    "    parameters = sum([np.prod(list(p.size())) for p in model.parameters()])\n",
    "    start_time = time.time()\n",
    "    for epoch in range(3):\n",
    "        loop = tqdm(total=len(train_loader), position=0, leave=False)\n",
    "        for batch, (x,y_truth) in enumerate(train_loader):\n",
    "            x, y_truth = x.cuda(), y_truth.long().cuda()\n",
    "\n",
    "            optimizer.zero_grad()\n",
    "            y_hat = model(x)\n",
    "            loss = objective(y_hat, y_truth)\n",
    "            loss.backward()\n",
    "\n",
    "            losses.append((time.time() - start_time, loss.item()))\n",
    "            accuracy = (y_hat.argmax(1) == y_truth).float().mean()\n",
    "            mem = torch.cuda.memory_allocated(0)/1e9\n",
    "            loop.set_description('epoch:{}, loss:{:.4f}, accuracy:{:.3f}, mem:{:.2f}'.format(epoch,losses[-1][1], accuracy, mem))\n",
    "\n",
    "            loop.update()\n",
    "            optimizer.step()\n",
    "\n",
    "            # Validation step\n",
    "            if batch % 20 == 0:\n",
    "                model.eval()\n",
    "                val_accuracy = 0\n",
    "                with torch.no_grad():\n",
    "                    for val_x, val_y in val_loader:\n",
    "                        val_x, val_y = val_x.cuda(), val_y.long().cuda()\n",
    "                        val_y_hat = model(val_x)\n",
    "                        val_accuracy += (val_y_hat.argmax(1) == val_y).float().mean()\n",
    "                val_accuracy /= len(val_loader)\n",
    "                validations.append((time.time() - start_time, val_accuracy))\n",
    "                model.train()\n",
    "    loop.close()\n",
    "    plt.figure(figsize=(12,4))\n",
    "    plt.subplot(1,2,1)\n",
    "    a, b = zip(*losses)\n",
    "    plt.plot(a, b, label='Loss')\n",
    "    plt.legend()\n",
    "    plt.xlabel('Time (s)')\n",
    "    plt.ylabel('Loss')\n",
    "    plt.title('Loss over Time')\n",
    "\n",
    "    a, b = zip(*validations)\n",
    "    a = np.array(a)\n",
    "    b = [i.item() for i in b]\n",
    "    plt.subplot(1,2,2)\n",
    "    plt.plot(a, b, label='Accuracy')\n",
    "    plt.legend()\n",
    "    plt.xlabel('Time')\n",
    "    plt.ylabel('Accuracy')\n",
    "    plt.title('Accuracy over Time')\n",
    "    plt.show()\n",
    "  except():\n",
    "    __ITB__()\n",
    "\n",
    "scope()"
   ]
  },
  {
   "cell_type": "markdown",
   "metadata": {},
   "source": [
    "# READ ME\n",
    "\n",
    "As you can see, I was running into some overfitting problems. To combat this, I began working on an early stopping method. It was working, but still not great. I had a graph, but decided to re-run it and my usage limit was reached on Colab and I cannot connect to a GPU. I tried creating multiple accounts but Google was too smart for me. I'm not sure if im supposed to pay for Pro.. idk what to do. I'll talk to a TA before next week's lab but for now this is the best I can do... please be merciful. My code works, I just can't run it. \n",
    "Since the early stopping was not working as well as I wanted, I was next going to try L2 regularization. Some other ideas I had beyond that were dropout and data augmentation, but hopefully it wouldnt have lead to that. You can also see in the code below that I had the model and val_dataset returned. That was so that I could use those in the last problem. (If its not clear, I spent an absurd amount of time trying to perfect my methods before I was cut short). "
   ]
  },
  {
   "cell_type": "code",
   "execution_count": 3,
   "metadata": {
    "colab": {
     "base_uri": "https://localhost:8080/",
     "height": 332
    },
    "id": "rb7YGONaKuaP",
    "outputId": "1c569481-32a5-4309-b1ce-b70ccb430bb5"
   },
   "outputs": [
    {
     "ename": "NameError",
     "evalue": "ignored",
     "output_type": "error",
     "traceback": [
      "\u001b[0;31m---------------------------------------------------------------------------\u001b[0m",
      "\u001b[0;31mNameError\u001b[0m                                 Traceback (most recent call last)",
      "\u001b[0;32m<ipython-input-3-23b900dd328b>\u001b[0m in \u001b[0;36m<module>\u001b[0;34m\u001b[0m\n\u001b[1;32m     86\u001b[0m     \u001b[0m__ITB__\u001b[0m\u001b[0;34m(\u001b[0m\u001b[0;34m)\u001b[0m\u001b[0;34m\u001b[0m\u001b[0;34m\u001b[0m\u001b[0m\n\u001b[1;32m     87\u001b[0m \u001b[0;34m\u001b[0m\u001b[0m\n\u001b[0;32m---> 88\u001b[0;31m \u001b[0mscope\u001b[0m\u001b[0;34m(\u001b[0m\u001b[0;34m)\u001b[0m\u001b[0;34m\u001b[0m\u001b[0;34m\u001b[0m\u001b[0m\n\u001b[0m",
      "\u001b[0;32m<ipython-input-3-23b900dd328b>\u001b[0m in \u001b[0;36mscope\u001b[0;34m()\u001b[0m\n\u001b[1;32m      3\u001b[0m \u001b[0;32mdef\u001b[0m \u001b[0mscope\u001b[0m\u001b[0;34m(\u001b[0m\u001b[0;34m)\u001b[0m\u001b[0;34m:\u001b[0m\u001b[0;34m\u001b[0m\u001b[0;34m\u001b[0m\u001b[0m\n\u001b[1;32m      4\u001b[0m   \u001b[0;32mtry\u001b[0m\u001b[0;34m:\u001b[0m\u001b[0;34m\u001b[0m\u001b[0;34m\u001b[0m\u001b[0m\n\u001b[0;32m----> 5\u001b[0;31m     \u001b[0mtrain_dataset\u001b[0m \u001b[0;34m=\u001b[0m \u001b[0mCancerDataset\u001b[0m\u001b[0;34m(\u001b[0m\u001b[0mroot\u001b[0m\u001b[0;34m=\u001b[0m\u001b[0;34m'./data2'\u001b[0m\u001b[0;34m,\u001b[0m \u001b[0mtrain\u001b[0m\u001b[0;34m=\u001b[0m\u001b[0;32mTrue\u001b[0m\u001b[0;34m)\u001b[0m\u001b[0;34m\u001b[0m\u001b[0;34m\u001b[0m\u001b[0m\n\u001b[0m\u001b[1;32m      6\u001b[0m     \u001b[0mval_dataset\u001b[0m \u001b[0;34m=\u001b[0m \u001b[0mCancerDataset\u001b[0m\u001b[0;34m(\u001b[0m\u001b[0mroot\u001b[0m\u001b[0;34m=\u001b[0m\u001b[0;34m'./data2'\u001b[0m\u001b[0;34m,\u001b[0m \u001b[0mtrain\u001b[0m\u001b[0;34m=\u001b[0m\u001b[0;32mFalse\u001b[0m\u001b[0;34m)\u001b[0m\u001b[0;34m\u001b[0m\u001b[0;34m\u001b[0m\u001b[0m\n\u001b[1;32m      7\u001b[0m \u001b[0;34m\u001b[0m\u001b[0m\n",
      "\u001b[0;31mNameError\u001b[0m: name 'CancerDataset' is not defined"
     ]
    }
   ],
   "source": [
    "import time\n",
    "\n",
    "def scope():\n",
    "  try:\n",
    "    train_dataset = CancerDataset(root='./data2', train=True)\n",
    "    val_dataset = CancerDataset(root='./data2', train=False)\n",
    "\n",
    "    model = CancerDetection()\n",
    "    model.cuda()\n",
    "    objective = nn.CrossEntropyLoss()\n",
    "    optimizer = optim.Adam(model.parameters(), lr = 1e-4)\n",
    "    train_loader = DataLoader(train_dataset, batch_size = 6, num_workers = 2, pin_memory = True)\n",
    "    val_loader = DataLoader(val_dataset, batch_size = 6, pin_memory = True)\n",
    "    \n",
    "    gc.collect()\n",
    "    \n",
    "    losses = []\n",
    "    validations = []\n",
    "\n",
    "    parameters = sum([np.prod(list(p.size())) for p in model.parameters()])\n",
    "    start_time = time.time()\n",
    "    best_val_accuracy = 0\n",
    "    patience = 10\n",
    "    patience_counter = 0\n",
    "    for epoch in range(20):\n",
    "        loop = tqdm(total=len(train_loader), position=0, leave=False)\n",
    "        for batch, (x,y_truth) in enumerate(train_loader):\n",
    "            x, y_truth = x.cuda(), y_truth.long().cuda()\n",
    "\n",
    "            optimizer.zero_grad()\n",
    "            y_hat = model(x)\n",
    "            loss = objective(y_hat, y_truth)\n",
    "            loss.backward()\n",
    "\n",
    "            losses.append((time.time() - start_time, loss.item()))\n",
    "            accuracy = (y_hat.argmax(1) == y_truth).float().mean()\n",
    "            mem = torch.cuda.memory_allocated(0)/1e9\n",
    "            loop.set_description('epoch:{}, loss:{:.4f}, accuracy:{:.3f}, mem:{:.2f}'.format(epoch,losses[-1][1], accuracy, mem))\n",
    "\n",
    "            loop.update()\n",
    "            optimizer.step()\n",
    "\n",
    "            # Validation step\n",
    "            if batch % 20 == 0:\n",
    "                model.eval()\n",
    "                val_accuracy = 0\n",
    "                with torch.no_grad():\n",
    "                    for val_x, val_y in val_loader:\n",
    "                        val_x, val_y = val_x.cuda(), val_y.long().cuda()\n",
    "                        val_y_hat = model(val_x)\n",
    "                        val_accuracy += (val_y_hat.argmax(1) == val_y).float().mean()\n",
    "                val_accuracy /= len(val_loader)\n",
    "                validations.append((time.time() - start_time, val_accuracy))\n",
    "                model.train()\n",
    "\n",
    "                # Implement early stopping\n",
    "                if val_accuracy > best_val_accuracy:\n",
    "                    best_val_accuracy = val_accuracy\n",
    "                    patience_counter = 0\n",
    "                else:\n",
    "                    patience_counter += 1\n",
    "                    if patience_counter >= patience:\n",
    "                        print(\"Early stopping at epoch\", epoch)\n",
    "                        break\n",
    "    loop.close()\n",
    "    plt.figure(figsize=(12,4))\n",
    "    plt.subplot(1,2,1)\n",
    "    a, b = zip(*losses)\n",
    "    plt.plot(a, b, label='Loss')\n",
    "    plt.legend()\n",
    "    plt.xlabel('Time (s)')\n",
    "    plt.ylabel('Loss')\n",
    "    plt.title('Loss over Time')\n",
    "\n",
    "    a, b = zip(*validations)\n",
    "    a = np.array(a)\n",
    "    b = [i.item() for i in b]\n",
    "    plt.subplot(1,2,2)\n",
    "    plt.plot(a, b, label='Accuracy')\n",
    "    plt.legend()\n",
    "    plt.xlabel('Time')\n",
    "    plt.ylabel('Accuracy')\n",
    "    plt.title('Accuracy over Time')\n",
    "    plt.show()\n",
    "  except():\n",
    "    __ITB__()\n",
    "\n",
    "  return val_dataset, model"
   ]
  },
  {
   "cell_type": "markdown",
   "metadata": {
    "id": "CZ062Jv1jIIu"
   },
   "source": [
    "\n",
    "___\n",
    "\n",
    "### Part 2\n",
    "\n",
    "Plot performance over time\n",
    "\n",
    "Please generate two plots:\n",
    "\n",
    " One that shows loss on the training and validation set as a function of training time. \n",
    "\n",
    " One that shows accuracy on the training and validation set as a function of training time. \n",
    "\n",
    " Make sure your axes are labeled!\n",
    "\n",
    "# PLOTS ARE SEEN ABOVE\n",
    "\n",
    "(sorry i couldnt move them after my GPU disconnected)"
   ]
  },
  {
   "cell_type": "markdown",
   "metadata": {
    "id": "tMhDFQjM2tAy",
    "nteract": {
     "transient": {
      "deleting": false
     }
    }
   },
   "source": [
    "**NOTE:**\n",
    "\n",
    "Guessing that the pixel is not cancerous every single time will give you an accuracy of ~ 85%.\n",
    "Your trained network should be able to do better than that (but you will not be graded on accuracy).\n",
    "This is the result I got after 1 hour or training.\n",
    "\n",
    "![](http://liftothers.org/dokuwiki/lib/exe/fetch.php?w=400&tok=d23e0b&media=cs501r_f2016:training_accuracy.png)\n",
    "![](http://liftothers.org/dokuwiki/lib/exe/fetch.php?w=400&tok=bb8e3c&media=cs501r_f2016:training_loss.png)"
   ]
  },
  {
   "cell_type": "markdown",
   "metadata": {
    "id": "S4s92S2_jQOG"
   },
   "source": [
    "___\n",
    "\n",
    "### Part 3\n",
    "\n",
    "Generate at least 5 predictions on the pos_test_000072.png image and display them as images. These predictions should be made at a reasonable interval (e.g. every epoch). \n",
    "\n",
    "To do this, calculate the output of your trained network on the pos_test_000072.png image,\n",
    "then make a hard decision (cancerous/not-cancerous) for each pixel.\n",
    "The resulting image should be black-and-white, where white pixels represent things\n",
    "you think are probably cancerous.\n",
    "\n",
    "# READ ME\n",
    "\n",
    "Once again, I couldnt run this code, but this should work. Below is the code that will plot the estimation from the model. Ideally, i would have run this at multiple different training levels (number of epochs) and displayed each of those images (run the scope function at differing levels of epochs then run the below code following each training). \n",
    "I understand you'll almost surely have to dock me for this. All is ask is that you be a little merciful. You can see that I knew what I was doing and could have obtained the correct solution if it wasn't behind a paywall. In fact, I would say I did obtain a correct solution, the only difference from my submission and full points is my inability to push Ctrl+Enter.\n",
    "Thanks either way. \n"
   ]
  },
  {
   "cell_type": "code",
   "execution_count": null,
   "metadata": {
    "id": "XXfG3wClh8an",
    "pycharm": {
     "is_executing": false
    }
   },
   "outputs": [],
   "source": [
    "val_dataset, model = scope()\n",
    "image = DataLoader(val_dataset, pin_memory=True).dataset[172][0].unsqueeze(0).cuda()\n",
    "image = val_dataset[172][0].unsqueeze(0).cuda()\n",
    "result = model(image)\n",
    "\n",
    "fig, ax = plt.subplots(1,2,figsize=(12,6))\n",
    "ax[0].set_title('Original')\n",
    "ax[0].imshow(val_dataset[172][0].permute(1,2,0))\n",
    "\n",
    "ax[0].set_axis_off()\n",
    "\n",
    "ax[1].set_title('Model Estimation')\n",
    "ax[1].imshow(result.cpu().detach().argmax(1)[0],cmap='gray')\n",
    "ax[1].set_axis_off()\n",
    "plt.show()"
   ]
  }
 ],
 "metadata": {
  "accelerator": "GPU",
  "colab": {
   "provenance": []
  },
  "gpuClass": "standard",
  "kernelspec": {
   "display_name": "Python 3 (ipykernel)",
   "language": "python",
   "name": "python3"
  },
  "language_info": {
   "codemirror_mode": {
    "name": "ipython",
    "version": 3
   },
   "file_extension": ".py",
   "mimetype": "text/x-python",
   "name": "python",
   "nbconvert_exporter": "python",
   "pygments_lexer": "ipython3",
   "version": "3.9.13"
  },
  "nteract": {
   "version": "0.28.0"
  },
  "pycharm": {
   "stem_cell": {
    "cell_type": "raw",
    "metadata": {
     "collapsed": false
    },
    "source": []
   }
  }
 },
 "nbformat": 4,
 "nbformat_minor": 1
}
